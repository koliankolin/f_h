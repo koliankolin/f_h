{
 "cells": [
  {
   "cell_type": "code",
   "execution_count": 75,
   "outputs": [],
   "source": [
    "from catboost import CatBoostClassifier, CatBoostRegressor\n",
    "import sys\n",
    "sys.path.insert(0, '../utils')\n",
    "from utils.football_data_set_splitter import FootballDataSetSplitter\n",
    "import utils.football_data_set as fds\n",
    "import pandas as pd"
   ],
   "metadata": {
    "collapsed": false,
    "pycharm": {
     "name": "#%%\n"
    }
   }
  },
  {
   "cell_type": "code",
   "execution_count": 3,
   "outputs": [],
   "source": [
    "train = fds.FootballDataSet(\"../data/train.csv\")"
   ],
   "metadata": {
    "collapsed": false,
    "pycharm": {
     "name": "#%%\n"
    }
   }
  },
  {
   "cell_type": "code",
   "execution_count": 4,
   "outputs": [],
   "source": [
    "test = fds.FootballDataSet(\"../data/test.csv\")"
   ],
   "metadata": {
    "collapsed": false,
    "pycharm": {
     "name": "#%%\n"
    }
   }
  },
  {
   "cell_type": "code",
   "execution_count": 6,
   "outputs": [
    {
     "data": {
      "text/plain": "['winner',\n 'team',\n 'player_general_var_0',\n 'player_general_var_1',\n 'player_general_var_5',\n 'player_positional_raw_var_1',\n 'player_positional_raw_var_2',\n 'player_positional_raw_var_3',\n 'player_defensive_raw_var_5',\n 'player_offensive_raw_var_7',\n 'player_other_raw_var_8',\n 'player_other_raw_var_9',\n 'player_other_raw_var_10',\n 'player_offensive_raw_var_11',\n 'player_other_raw_var_12',\n 'player_other_raw_var_13',\n 'player_other_raw_var_14',\n 'player_positional_raw_var_15',\n 'player_positional_raw_var_16',\n 'player_positional_raw_var_17',\n 'player_other_raw_var_19',\n 'player_other_raw_var_20',\n 'player_positional_raw_var_21',\n 'player_positional_raw_var_22',\n 'player_positional_raw_var_23',\n 'player_other_raw_var_24',\n 'player_other_raw_var_25',\n 'player_other_raw_var_26',\n 'player_other_raw_var_27',\n 'player_other_raw_var_28',\n 'player_other_raw_var_29',\n 'player_other_raw_var_30',\n 'player_other_raw_var_33',\n 'player_other_raw_var_36',\n 'player_offensive_raw_var_46',\n 'player_other_raw_var_47',\n 'player_defensive_raw_var_48',\n 'player_offensive_raw_var_49',\n 'player_defensive_raw_var_52',\n 'player_other_raw_var_54',\n 'player_offensive_raw_var_60',\n 'player_defensive_raw_var_61',\n 'player_general_raw_var_71',\n 'player_general_raw_var_72',\n 'player_offensive_raw_var_77',\n 'player_offensive_raw_var_79',\n 'player_other_raw_var_80',\n 'player_other_raw_var_81',\n 'player_other_raw_var_82',\n 'player_other_raw_var_83',\n 'player_other_raw_var_84',\n 'player_other_raw_var_85',\n 'player_positional_raw_var_86',\n 'player_other_raw_var_90',\n 'player_other_raw_var_91',\n 'player_defensive_raw_var_92',\n 'player_other_raw_var_96',\n 'player_other_raw_var_98',\n 'player_other_raw_var_99',\n 'player_other_raw_var_135',\n 'player_offensive_raw_var_150',\n 'player_offensive_raw_var_153',\n 'player_other_raw_var_154',\n 'player_offensive_raw_var_156',\n 'player_offensive_raw_var_158',\n 'player_other_raw_var_159',\n 'player_general_raw_var_162',\n 'player_defensive_raw_var_165',\n 'player_other_raw_var_167',\n 'player_other_raw_var_168',\n 'player_offensive_raw_var_170',\n 'player_other_raw_var_172',\n 'player_other_raw_var_173',\n 'player_positional_raw_var_174',\n 'player_other_raw_var_175',\n 'player_other_raw_var_176',\n 'player_other_raw_var_177',\n 'player_other_raw_var_178',\n 'player_other_raw_var_179',\n 'player_other_raw_var_180',\n 'player_positional_ratio_var_1',\n 'player_other_ratio_var_5',\n 'player_other_ratio_var_7',\n 'player_other_ratio_var_23',\n 'player_other_ratio_var_24',\n 'player_other_ratio_var_26',\n 'player_other_ratio_var_27',\n 'player_other_ratio_var_28',\n 'player_other_ratio_var_32',\n 'player_other_ratio_var_34',\n 'player_positional_ratio_var_79',\n 'player_defensive_ratio_var_83',\n 'team1_defensive_raw_var_3',\n 'team1_offensive_raw_var_4',\n 'team1_defensive_raw_var_6',\n 'team1_defensive_raw_var_9',\n 'team1_offensive_raw_var_10',\n 'team1_defensive_raw_var_12',\n 'team1_offensive_raw_var_13',\n 'team1_other_raw_var_14',\n 'team1_other_raw_var_19',\n 'team1_other_raw_var_31',\n 'team1_other_raw_var_33',\n 'team1_other_raw_var_38',\n 'team1_other_raw_var_40',\n 'team1_other_raw_var_43',\n 'team1_other_raw_var_50',\n 'team1_other_raw_var_51',\n 'team1_other_raw_var_53',\n 'team1_other_raw_var_72',\n 'team1_other_raw_var_79',\n 'team1_other_raw_var_82',\n 'team1_other_raw_var_92',\n 'team1_other_ratio_var_32',\n 'team1_other_ratio_var_33',\n 'team2_defensive_raw_var_3',\n 'team2_offensive_raw_var_4',\n 'team2_offensive_raw_var_7',\n 'team2_defensive_raw_var_9',\n 'team2_offensive_raw_var_10',\n 'team2_defensive_raw_var_12',\n 'team2_offensive_raw_var_13',\n 'team2_other_raw_var_14',\n 'team2_other_raw_var_19',\n 'team2_other_raw_var_31',\n 'team2_other_raw_var_33',\n 'team2_other_raw_var_38',\n 'team2_other_raw_var_40',\n 'team2_other_raw_var_43',\n 'team2_other_raw_var_50',\n 'team2_other_raw_var_51',\n 'team2_other_raw_var_72',\n 'team2_other_raw_var_79',\n 'team2_other_raw_var_82',\n 'team2_other_raw_var_92',\n 'team2_other_ratio_var_32',\n 'team2_other_ratio_var_33']"
     },
     "execution_count": 6,
     "metadata": {},
     "output_type": "execute_result"
    }
   ],
   "source": [
    "categorical_features = train.get_categorical_columns()\n",
    "categorical_features"
   ],
   "metadata": {
    "collapsed": false,
    "pycharm": {
     "name": "#%%\n"
    }
   }
  },
  {
   "cell_type": "code",
   "execution_count": 47,
   "outputs": [],
   "source": [
    "X = train.data.drop([\"rating_num\", \"row_id\"], axis=1)\n",
    "y = train.data[\"rating_num\"]"
   ],
   "metadata": {
    "collapsed": false,
    "pycharm": {
     "name": "#%%\n"
    }
   }
  },
  {
   "cell_type": "code",
   "execution_count": 48,
   "outputs": [],
   "source": [
    "X = X.fillna(0)"
   ],
   "metadata": {
    "collapsed": false,
    "pycharm": {
     "name": "#%%\n"
    }
   }
  },
  {
   "cell_type": "code",
   "execution_count": 49,
   "outputs": [
    {
     "name": "stdout",
     "output_type": "stream",
     "text": [
      "winner\n",
      "team\n"
     ]
    }
   ],
   "source": [
    "for col in X.columns:\n",
    "    if X[col].dtype == 'object':\n",
    "        print(col)"
   ],
   "metadata": {
    "collapsed": false,
    "pycharm": {
     "name": "#%%\n"
    }
   }
  },
  {
   "cell_type": "code",
   "execution_count": 52,
   "outputs": [],
   "source": [
    "categorical_features_indices = []\n",
    "\n",
    "for i, col in enumerate(X.columns):\n",
    "    if col in categorical_features:\n",
    "        categorical_features_indices.append(i)\n",
    "        if X[col].dtype != 'object':\n",
    "            X[col] = X[col].astype(\"int\")"
   ],
   "metadata": {
    "collapsed": false,
    "pycharm": {
     "name": "#%%\n"
    }
   }
  },
  {
   "cell_type": "code",
   "execution_count": 53,
   "outputs": [
    {
     "name": "stdout",
     "output_type": "stream",
     "text": [
      "Learning rate set to 0.092294\n",
      "0:\tlearn: 2.5068775\ttotal: 577ms\tremaining: 9m 36s\n",
      "1:\tlearn: 2.4608946\ttotal: 1.09s\tremaining: 9m 5s\n",
      "2:\tlearn: 2.4214637\ttotal: 1.55s\tremaining: 8m 36s\n",
      "3:\tlearn: 2.3880641\ttotal: 1.98s\tremaining: 8m 12s\n",
      "4:\tlearn: 2.3583731\ttotal: 2.46s\tremaining: 8m 9s\n",
      "5:\tlearn: 2.3228508\ttotal: 3.01s\tremaining: 8m 18s\n",
      "6:\tlearn: 2.2970440\ttotal: 3.45s\tremaining: 8m 10s\n",
      "7:\tlearn: 2.2769898\ttotal: 3.97s\tremaining: 8m 12s\n",
      "8:\tlearn: 2.2601457\ttotal: 4.41s\tremaining: 8m 6s\n",
      "9:\tlearn: 2.2432056\ttotal: 4.91s\tremaining: 8m 6s\n",
      "10:\tlearn: 2.2228916\ttotal: 5.38s\tremaining: 8m 3s\n",
      "11:\tlearn: 2.2109824\ttotal: 5.87s\tremaining: 8m 3s\n",
      "12:\tlearn: 2.1992044\ttotal: 6.36s\tremaining: 8m 3s\n",
      "13:\tlearn: 2.1847383\ttotal: 6.84s\tremaining: 8m 1s\n",
      "14:\tlearn: 2.1751301\ttotal: 7.37s\tremaining: 8m 4s\n",
      "15:\tlearn: 2.1553279\ttotal: 7.9s\tremaining: 8m 6s\n",
      "16:\tlearn: 2.1440544\ttotal: 8.42s\tremaining: 8m 7s\n",
      "17:\tlearn: 2.1365604\ttotal: 8.88s\tremaining: 8m 4s\n",
      "18:\tlearn: 2.1291783\ttotal: 9.4s\tremaining: 8m 5s\n",
      "19:\tlearn: 2.1224841\ttotal: 9.93s\tremaining: 8m 6s\n",
      "20:\tlearn: 2.1144523\ttotal: 10.5s\tremaining: 8m 7s\n",
      "21:\tlearn: 2.1032365\ttotal: 11s\tremaining: 8m 9s\n",
      "22:\tlearn: 2.0911189\ttotal: 11.6s\tremaining: 8m 11s\n",
      "23:\tlearn: 2.0869554\ttotal: 12.1s\tremaining: 8m 11s\n",
      "24:\tlearn: 2.0796422\ttotal: 12.6s\tremaining: 8m 13s\n",
      "25:\tlearn: 2.0730321\ttotal: 13.2s\tremaining: 8m 13s\n",
      "26:\tlearn: 2.0682809\ttotal: 13.7s\tremaining: 8m 13s\n",
      "27:\tlearn: 2.0570057\ttotal: 14.2s\tremaining: 8m 13s\n",
      "28:\tlearn: 2.0516652\ttotal: 14.7s\tremaining: 8m 13s\n",
      "29:\tlearn: 2.0428698\ttotal: 15.3s\tremaining: 8m 14s\n",
      "30:\tlearn: 2.0383281\ttotal: 15.8s\tremaining: 8m 15s\n",
      "31:\tlearn: 2.0316521\ttotal: 16.4s\tremaining: 8m 15s\n",
      "32:\tlearn: 2.0292011\ttotal: 16.9s\tremaining: 8m 14s\n",
      "33:\tlearn: 2.0257275\ttotal: 17.4s\tremaining: 8m 14s\n",
      "34:\tlearn: 2.0228593\ttotal: 17.9s\tremaining: 8m 13s\n",
      "35:\tlearn: 2.0155127\ttotal: 18.5s\tremaining: 8m 14s\n",
      "36:\tlearn: 2.0112767\ttotal: 19s\tremaining: 8m 15s\n",
      "37:\tlearn: 2.0081948\ttotal: 19.6s\tremaining: 8m 15s\n",
      "38:\tlearn: 2.0051258\ttotal: 20.1s\tremaining: 8m 15s\n",
      "39:\tlearn: 2.0030121\ttotal: 20.6s\tremaining: 8m 15s\n",
      "40:\tlearn: 1.9988362\ttotal: 21.2s\tremaining: 8m 15s\n",
      "41:\tlearn: 1.9965715\ttotal: 21.7s\tremaining: 8m 14s\n",
      "42:\tlearn: 1.9936726\ttotal: 22.2s\tremaining: 8m 13s\n",
      "43:\tlearn: 1.9894545\ttotal: 22.7s\tremaining: 8m 13s\n",
      "44:\tlearn: 1.9855627\ttotal: 23.2s\tremaining: 8m 12s\n",
      "45:\tlearn: 1.9808397\ttotal: 23.8s\tremaining: 8m 12s\n",
      "46:\tlearn: 1.9700958\ttotal: 24.3s\tremaining: 8m 12s\n",
      "47:\tlearn: 1.9672071\ttotal: 24.8s\tremaining: 8m 11s\n",
      "48:\tlearn: 1.9642275\ttotal: 25.2s\tremaining: 8m 9s\n",
      "49:\tlearn: 1.9618267\ttotal: 25.7s\tremaining: 8m 7s\n",
      "50:\tlearn: 1.9585216\ttotal: 26.2s\tremaining: 8m 7s\n",
      "51:\tlearn: 1.9542974\ttotal: 26.7s\tremaining: 8m 6s\n",
      "52:\tlearn: 1.9510494\ttotal: 27.2s\tremaining: 8m 6s\n",
      "53:\tlearn: 1.9478551\ttotal: 27.6s\tremaining: 8m 4s\n",
      "54:\tlearn: 1.9455057\ttotal: 28.1s\tremaining: 8m 2s\n",
      "55:\tlearn: 1.9435327\ttotal: 28.5s\tremaining: 8m\n",
      "56:\tlearn: 1.9421073\ttotal: 29s\tremaining: 7m 59s\n",
      "57:\tlearn: 1.9389279\ttotal: 29.5s\tremaining: 7m 58s\n",
      "58:\tlearn: 1.9361755\ttotal: 29.9s\tremaining: 7m 57s\n",
      "59:\tlearn: 1.9336487\ttotal: 30.4s\tremaining: 7m 56s\n",
      "60:\tlearn: 1.9310068\ttotal: 31s\tremaining: 7m 56s\n",
      "61:\tlearn: 1.9293613\ttotal: 31.5s\tremaining: 7m 56s\n",
      "62:\tlearn: 1.9262610\ttotal: 32s\tremaining: 7m 55s\n",
      "63:\tlearn: 1.9233086\ttotal: 32.5s\tremaining: 7m 54s\n",
      "64:\tlearn: 1.9182050\ttotal: 33s\tremaining: 7m 54s\n",
      "65:\tlearn: 1.9153712\ttotal: 33.5s\tremaining: 7m 53s\n",
      "66:\tlearn: 1.9131155\ttotal: 33.9s\tremaining: 7m 52s\n",
      "67:\tlearn: 1.9077242\ttotal: 34.4s\tremaining: 7m 51s\n",
      "68:\tlearn: 1.9044177\ttotal: 34.8s\tremaining: 7m 50s\n",
      "69:\tlearn: 1.9022788\ttotal: 35.4s\tremaining: 7m 49s\n",
      "70:\tlearn: 1.8993929\ttotal: 35.9s\tremaining: 7m 49s\n",
      "71:\tlearn: 1.8952413\ttotal: 36.4s\tremaining: 7m 48s\n",
      "72:\tlearn: 1.8924913\ttotal: 36.9s\tremaining: 7m 48s\n",
      "73:\tlearn: 1.8896210\ttotal: 37.3s\tremaining: 7m 47s\n",
      "74:\tlearn: 1.8870638\ttotal: 37.8s\tremaining: 7m 46s\n",
      "75:\tlearn: 1.8843908\ttotal: 38.4s\tremaining: 7m 46s\n",
      "76:\tlearn: 1.8811957\ttotal: 38.9s\tremaining: 7m 46s\n",
      "77:\tlearn: 1.8781160\ttotal: 39.4s\tremaining: 7m 46s\n",
      "78:\tlearn: 1.8750731\ttotal: 40s\tremaining: 7m 45s\n",
      "79:\tlearn: 1.8728413\ttotal: 40.5s\tremaining: 7m 45s\n",
      "80:\tlearn: 1.8705499\ttotal: 41s\tremaining: 7m 45s\n",
      "81:\tlearn: 1.8669418\ttotal: 41.5s\tremaining: 7m 44s\n",
      "82:\tlearn: 1.8651744\ttotal: 41.9s\tremaining: 7m 43s\n",
      "83:\tlearn: 1.8614934\ttotal: 42.5s\tremaining: 7m 43s\n",
      "84:\tlearn: 1.8585647\ttotal: 43s\tremaining: 7m 42s\n",
      "85:\tlearn: 1.8550846\ttotal: 43.5s\tremaining: 7m 42s\n",
      "86:\tlearn: 1.8525186\ttotal: 44s\tremaining: 7m 41s\n",
      "87:\tlearn: 1.8500913\ttotal: 44.5s\tremaining: 7m 40s\n",
      "88:\tlearn: 1.8486243\ttotal: 45s\tremaining: 7m 40s\n",
      "89:\tlearn: 1.8470894\ttotal: 45.5s\tremaining: 7m 39s\n",
      "90:\tlearn: 1.8434621\ttotal: 46s\tremaining: 7m 39s\n",
      "91:\tlearn: 1.8413519\ttotal: 46.5s\tremaining: 7m 38s\n",
      "92:\tlearn: 1.8384167\ttotal: 47s\tremaining: 7m 38s\n",
      "93:\tlearn: 1.8353669\ttotal: 47.4s\tremaining: 7m 37s\n",
      "94:\tlearn: 1.8330094\ttotal: 47.9s\tremaining: 7m 36s\n",
      "95:\tlearn: 1.8294553\ttotal: 48.4s\tremaining: 7m 35s\n",
      "96:\tlearn: 1.8278619\ttotal: 48.8s\tremaining: 7m 34s\n",
      "97:\tlearn: 1.8255634\ttotal: 49.3s\tremaining: 7m 33s\n",
      "98:\tlearn: 1.8209559\ttotal: 49.8s\tremaining: 7m 32s\n",
      "99:\tlearn: 1.8172330\ttotal: 50.3s\tremaining: 7m 32s\n",
      "100:\tlearn: 1.8146884\ttotal: 50.7s\tremaining: 7m 31s\n",
      "101:\tlearn: 1.8122220\ttotal: 51.2s\tremaining: 7m 31s\n",
      "102:\tlearn: 1.8042634\ttotal: 51.7s\tremaining: 7m 30s\n",
      "103:\tlearn: 1.8002221\ttotal: 52.2s\tremaining: 7m 29s\n",
      "104:\tlearn: 1.7975040\ttotal: 52.7s\tremaining: 7m 28s\n",
      "105:\tlearn: 1.7950765\ttotal: 53.1s\tremaining: 7m 27s\n",
      "106:\tlearn: 1.7887403\ttotal: 53.6s\tremaining: 7m 27s\n",
      "107:\tlearn: 1.7868011\ttotal: 54s\tremaining: 7m 26s\n",
      "108:\tlearn: 1.7847520\ttotal: 54.5s\tremaining: 7m 25s\n",
      "109:\tlearn: 1.7820342\ttotal: 54.9s\tremaining: 7m 24s\n",
      "110:\tlearn: 1.7776887\ttotal: 55.4s\tremaining: 7m 23s\n",
      "111:\tlearn: 1.7744942\ttotal: 55.9s\tremaining: 7m 23s\n",
      "112:\tlearn: 1.7717088\ttotal: 56.4s\tremaining: 7m 22s\n",
      "113:\tlearn: 1.7684361\ttotal: 56.9s\tremaining: 7m 21s\n",
      "114:\tlearn: 1.7657992\ttotal: 57.3s\tremaining: 7m 21s\n",
      "115:\tlearn: 1.7642652\ttotal: 57.8s\tremaining: 7m 20s\n",
      "116:\tlearn: 1.7583812\ttotal: 58.3s\tremaining: 7m 19s\n",
      "117:\tlearn: 1.7559375\ttotal: 58.7s\tremaining: 7m 18s\n",
      "118:\tlearn: 1.7527446\ttotal: 59.1s\tremaining: 7m 17s\n",
      "119:\tlearn: 1.7504528\ttotal: 59.6s\tremaining: 7m 17s\n",
      "120:\tlearn: 1.7473533\ttotal: 1m\tremaining: 7m 16s\n",
      "121:\tlearn: 1.7456210\ttotal: 1m\tremaining: 7m 15s\n",
      "122:\tlearn: 1.7407719\ttotal: 1m\tremaining: 7m 14s\n",
      "123:\tlearn: 1.7388181\ttotal: 1m 1s\tremaining: 7m 14s\n",
      "124:\tlearn: 1.7361061\ttotal: 1m 1s\tremaining: 7m 13s\n",
      "125:\tlearn: 1.7326070\ttotal: 1m 2s\tremaining: 7m 13s\n",
      "126:\tlearn: 1.7301438\ttotal: 1m 2s\tremaining: 7m 12s\n",
      "127:\tlearn: 1.7268956\ttotal: 1m 3s\tremaining: 7m 11s\n",
      "128:\tlearn: 1.7245890\ttotal: 1m 3s\tremaining: 7m 10s\n",
      "129:\tlearn: 1.7193005\ttotal: 1m 4s\tremaining: 7m 10s\n",
      "130:\tlearn: 1.7134215\ttotal: 1m 4s\tremaining: 7m 9s\n",
      "131:\tlearn: 1.7111915\ttotal: 1m 5s\tremaining: 7m 8s\n",
      "132:\tlearn: 1.7076770\ttotal: 1m 5s\tremaining: 7m 8s\n",
      "133:\tlearn: 1.7029142\ttotal: 1m 6s\tremaining: 7m 7s\n",
      "134:\tlearn: 1.6965396\ttotal: 1m 6s\tremaining: 7m 6s\n",
      "135:\tlearn: 1.6947868\ttotal: 1m 7s\tremaining: 7m 5s\n",
      "136:\tlearn: 1.6926121\ttotal: 1m 7s\tremaining: 7m 5s\n",
      "137:\tlearn: 1.6884451\ttotal: 1m 7s\tremaining: 7m 4s\n",
      "138:\tlearn: 1.6871831\ttotal: 1m 8s\tremaining: 7m 3s\n",
      "139:\tlearn: 1.6855562\ttotal: 1m 8s\tremaining: 7m 2s\n",
      "140:\tlearn: 1.6831621\ttotal: 1m 9s\tremaining: 7m 2s\n",
      "141:\tlearn: 1.6808624\ttotal: 1m 9s\tremaining: 7m 1s\n",
      "142:\tlearn: 1.6767119\ttotal: 1m 10s\tremaining: 7m 1s\n",
      "143:\tlearn: 1.6750161\ttotal: 1m 10s\tremaining: 7m\n",
      "144:\tlearn: 1.6723700\ttotal: 1m 11s\tremaining: 6m 59s\n",
      "145:\tlearn: 1.6710273\ttotal: 1m 11s\tremaining: 6m 59s\n",
      "146:\tlearn: 1.6693667\ttotal: 1m 12s\tremaining: 6m 58s\n",
      "147:\tlearn: 1.6675235\ttotal: 1m 12s\tremaining: 6m 57s\n",
      "148:\tlearn: 1.6655425\ttotal: 1m 13s\tremaining: 6m 57s\n",
      "149:\tlearn: 1.6637729\ttotal: 1m 13s\tremaining: 6m 56s\n",
      "150:\tlearn: 1.6601010\ttotal: 1m 14s\tremaining: 6m 56s\n",
      "151:\tlearn: 1.6580495\ttotal: 1m 14s\tremaining: 6m 55s\n",
      "152:\tlearn: 1.6513588\ttotal: 1m 14s\tremaining: 6m 54s\n",
      "153:\tlearn: 1.6475388\ttotal: 1m 15s\tremaining: 6m 54s\n",
      "154:\tlearn: 1.6438615\ttotal: 1m 15s\tremaining: 6m 53s\n",
      "155:\tlearn: 1.6427195\ttotal: 1m 16s\tremaining: 6m 52s\n",
      "156:\tlearn: 1.6414227\ttotal: 1m 16s\tremaining: 6m 51s\n",
      "157:\tlearn: 1.6391555\ttotal: 1m 17s\tremaining: 6m 51s\n",
      "158:\tlearn: 1.6362440\ttotal: 1m 17s\tremaining: 6m 50s\n",
      "159:\tlearn: 1.6350989\ttotal: 1m 18s\tremaining: 6m 50s\n",
      "160:\tlearn: 1.6329419\ttotal: 1m 18s\tremaining: 6m 49s\n",
      "161:\tlearn: 1.6316698\ttotal: 1m 19s\tremaining: 6m 48s\n",
      "162:\tlearn: 1.6309213\ttotal: 1m 19s\tremaining: 6m 48s\n",
      "163:\tlearn: 1.6287886\ttotal: 1m 19s\tremaining: 6m 47s\n",
      "164:\tlearn: 1.6250988\ttotal: 1m 20s\tremaining: 6m 47s\n",
      "165:\tlearn: 1.6209018\ttotal: 1m 20s\tremaining: 6m 46s\n",
      "166:\tlearn: 1.6191950\ttotal: 1m 21s\tremaining: 6m 45s\n",
      "167:\tlearn: 1.6177778\ttotal: 1m 21s\tremaining: 6m 45s\n",
      "168:\tlearn: 1.6151796\ttotal: 1m 22s\tremaining: 6m 44s\n",
      "169:\tlearn: 1.6131866\ttotal: 1m 22s\tremaining: 6m 44s\n",
      "170:\tlearn: 1.6120399\ttotal: 1m 23s\tremaining: 6m 43s\n",
      "171:\tlearn: 1.6101172\ttotal: 1m 23s\tremaining: 6m 42s\n",
      "172:\tlearn: 1.6084703\ttotal: 1m 24s\tremaining: 6m 42s\n",
      "173:\tlearn: 1.6061717\ttotal: 1m 24s\tremaining: 6m 41s\n",
      "174:\tlearn: 1.6047368\ttotal: 1m 25s\tremaining: 6m 40s\n",
      "175:\tlearn: 1.6024496\ttotal: 1m 25s\tremaining: 6m 40s\n",
      "176:\tlearn: 1.6011863\ttotal: 1m 25s\tremaining: 6m 39s\n",
      "177:\tlearn: 1.5998259\ttotal: 1m 26s\tremaining: 6m 38s\n",
      "178:\tlearn: 1.5951150\ttotal: 1m 26s\tremaining: 6m 38s\n",
      "179:\tlearn: 1.5925991\ttotal: 1m 27s\tremaining: 6m 37s\n",
      "180:\tlearn: 1.5910100\ttotal: 1m 27s\tremaining: 6m 37s\n",
      "181:\tlearn: 1.5885856\ttotal: 1m 28s\tremaining: 6m 36s\n",
      "182:\tlearn: 1.5869485\ttotal: 1m 28s\tremaining: 6m 35s\n",
      "183:\tlearn: 1.5851743\ttotal: 1m 29s\tremaining: 6m 35s\n",
      "184:\tlearn: 1.5829536\ttotal: 1m 29s\tremaining: 6m 34s\n",
      "185:\tlearn: 1.5806155\ttotal: 1m 30s\tremaining: 6m 34s\n",
      "186:\tlearn: 1.5786451\ttotal: 1m 30s\tremaining: 6m 33s\n",
      "187:\tlearn: 1.5772678\ttotal: 1m 30s\tremaining: 6m 32s\n",
      "188:\tlearn: 1.5751487\ttotal: 1m 31s\tremaining: 6m 32s\n",
      "189:\tlearn: 1.5736007\ttotal: 1m 31s\tremaining: 6m 31s\n",
      "190:\tlearn: 1.5722210\ttotal: 1m 32s\tremaining: 6m 31s\n",
      "191:\tlearn: 1.5708160\ttotal: 1m 32s\tremaining: 6m 30s\n",
      "192:\tlearn: 1.5693657\ttotal: 1m 33s\tremaining: 6m 29s\n",
      "193:\tlearn: 1.5684281\ttotal: 1m 33s\tremaining: 6m 29s\n",
      "194:\tlearn: 1.5664849\ttotal: 1m 34s\tremaining: 6m 28s\n",
      "195:\tlearn: 1.5648051\ttotal: 1m 34s\tremaining: 6m 28s\n",
      "196:\tlearn: 1.5636988\ttotal: 1m 35s\tremaining: 6m 27s\n",
      "197:\tlearn: 1.5628472\ttotal: 1m 35s\tremaining: 6m 26s\n",
      "198:\tlearn: 1.5610376\ttotal: 1m 35s\tremaining: 6m 26s\n",
      "199:\tlearn: 1.5598284\ttotal: 1m 36s\tremaining: 6m 25s\n",
      "200:\tlearn: 1.5584310\ttotal: 1m 36s\tremaining: 6m 25s\n",
      "201:\tlearn: 1.5567837\ttotal: 1m 37s\tremaining: 6m 24s\n",
      "202:\tlearn: 1.5560304\ttotal: 1m 37s\tremaining: 6m 24s\n",
      "203:\tlearn: 1.5542548\ttotal: 1m 38s\tremaining: 6m 23s\n",
      "204:\tlearn: 1.5530717\ttotal: 1m 38s\tremaining: 6m 22s\n",
      "205:\tlearn: 1.5503067\ttotal: 1m 39s\tremaining: 6m 22s\n",
      "206:\tlearn: 1.5489099\ttotal: 1m 39s\tremaining: 6m 21s\n",
      "207:\tlearn: 1.5476193\ttotal: 1m 40s\tremaining: 6m 21s\n",
      "208:\tlearn: 1.5463603\ttotal: 1m 40s\tremaining: 6m 20s\n",
      "209:\tlearn: 1.5450715\ttotal: 1m 41s\tremaining: 6m 20s\n",
      "210:\tlearn: 1.5438422\ttotal: 1m 41s\tremaining: 6m 19s\n",
      "211:\tlearn: 1.5423757\ttotal: 1m 41s\tremaining: 6m 18s\n",
      "212:\tlearn: 1.5399645\ttotal: 1m 42s\tremaining: 6m 18s\n",
      "213:\tlearn: 1.5385787\ttotal: 1m 42s\tremaining: 6m 17s\n",
      "214:\tlearn: 1.5377400\ttotal: 1m 43s\tremaining: 6m 17s\n",
      "215:\tlearn: 1.5359709\ttotal: 1m 43s\tremaining: 6m 16s\n",
      "216:\tlearn: 1.5343865\ttotal: 1m 44s\tremaining: 6m 15s\n",
      "217:\tlearn: 1.5327221\ttotal: 1m 44s\tremaining: 6m 15s\n",
      "218:\tlearn: 1.5314214\ttotal: 1m 45s\tremaining: 6m 14s\n",
      "219:\tlearn: 1.5294839\ttotal: 1m 45s\tremaining: 6m 14s\n",
      "220:\tlearn: 1.5275892\ttotal: 1m 45s\tremaining: 6m 13s\n",
      "221:\tlearn: 1.5262550\ttotal: 1m 46s\tremaining: 6m 13s\n",
      "222:\tlearn: 1.5244447\ttotal: 1m 46s\tremaining: 6m 12s\n",
      "223:\tlearn: 1.5239839\ttotal: 1m 47s\tremaining: 6m 11s\n",
      "224:\tlearn: 1.5234802\ttotal: 1m 47s\tremaining: 6m 11s\n",
      "225:\tlearn: 1.5225454\ttotal: 1m 48s\tremaining: 6m 10s\n",
      "226:\tlearn: 1.5214096\ttotal: 1m 48s\tremaining: 6m 10s\n",
      "227:\tlearn: 1.5196310\ttotal: 1m 49s\tremaining: 6m 9s\n",
      "228:\tlearn: 1.5178552\ttotal: 1m 49s\tremaining: 6m 9s\n",
      "229:\tlearn: 1.5164491\ttotal: 1m 50s\tremaining: 6m 8s\n",
      "230:\tlearn: 1.5155319\ttotal: 1m 50s\tremaining: 6m 7s\n",
      "231:\tlearn: 1.5147237\ttotal: 1m 50s\tremaining: 6m 7s\n",
      "232:\tlearn: 1.5137808\ttotal: 1m 51s\tremaining: 6m 6s\n",
      "233:\tlearn: 1.5124903\ttotal: 1m 51s\tremaining: 6m 6s\n",
      "234:\tlearn: 1.5114768\ttotal: 1m 52s\tremaining: 6m 5s\n",
      "235:\tlearn: 1.5091991\ttotal: 1m 52s\tremaining: 6m 5s\n",
      "236:\tlearn: 1.5080234\ttotal: 1m 53s\tremaining: 6m 4s\n",
      "237:\tlearn: 1.5068475\ttotal: 1m 53s\tremaining: 6m 4s\n",
      "238:\tlearn: 1.5053735\ttotal: 1m 54s\tremaining: 6m 3s\n",
      "239:\tlearn: 1.5036394\ttotal: 1m 54s\tremaining: 6m 3s\n",
      "240:\tlearn: 1.5014918\ttotal: 1m 55s\tremaining: 6m 2s\n",
      "241:\tlearn: 1.4998044\ttotal: 1m 55s\tremaining: 6m 1s\n",
      "242:\tlearn: 1.4981092\ttotal: 1m 56s\tremaining: 6m 1s\n",
      "243:\tlearn: 1.4967277\ttotal: 1m 56s\tremaining: 6m\n",
      "244:\tlearn: 1.4946854\ttotal: 1m 56s\tremaining: 6m\n",
      "245:\tlearn: 1.4935169\ttotal: 1m 57s\tremaining: 5m 59s\n",
      "246:\tlearn: 1.4923880\ttotal: 1m 57s\tremaining: 5m 59s\n",
      "247:\tlearn: 1.4913898\ttotal: 1m 58s\tremaining: 5m 58s\n",
      "248:\tlearn: 1.4905036\ttotal: 1m 58s\tremaining: 5m 58s\n",
      "249:\tlearn: 1.4891061\ttotal: 1m 59s\tremaining: 5m 57s\n",
      "250:\tlearn: 1.4875747\ttotal: 1m 59s\tremaining: 5m 57s\n",
      "251:\tlearn: 1.4864113\ttotal: 2m\tremaining: 5m 56s\n",
      "252:\tlearn: 1.4850229\ttotal: 2m\tremaining: 5m 56s\n",
      "253:\tlearn: 1.4840547\ttotal: 2m 1s\tremaining: 5m 55s\n",
      "254:\tlearn: 1.4829748\ttotal: 2m 1s\tremaining: 5m 55s\n",
      "255:\tlearn: 1.4821528\ttotal: 2m 2s\tremaining: 5m 54s\n",
      "256:\tlearn: 1.4811978\ttotal: 2m 2s\tremaining: 5m 54s\n",
      "257:\tlearn: 1.4801246\ttotal: 2m 2s\tremaining: 5m 53s\n",
      "258:\tlearn: 1.4788660\ttotal: 2m 3s\tremaining: 5m 52s\n",
      "259:\tlearn: 1.4764862\ttotal: 2m 3s\tremaining: 5m 52s\n",
      "260:\tlearn: 1.4758190\ttotal: 2m 4s\tremaining: 5m 51s\n",
      "261:\tlearn: 1.4746732\ttotal: 2m 4s\tremaining: 5m 51s\n",
      "262:\tlearn: 1.4732955\ttotal: 2m 5s\tremaining: 5m 50s\n",
      "263:\tlearn: 1.4727454\ttotal: 2m 5s\tremaining: 5m 50s\n",
      "264:\tlearn: 1.4711032\ttotal: 2m 6s\tremaining: 5m 49s\n",
      "265:\tlearn: 1.4701761\ttotal: 2m 6s\tremaining: 5m 48s\n",
      "266:\tlearn: 1.4685952\ttotal: 2m 6s\tremaining: 5m 48s\n",
      "267:\tlearn: 1.4665374\ttotal: 2m 7s\tremaining: 5m 47s\n",
      "268:\tlearn: 1.4650919\ttotal: 2m 7s\tremaining: 5m 47s\n",
      "269:\tlearn: 1.4643575\ttotal: 2m 8s\tremaining: 5m 46s\n",
      "270:\tlearn: 1.4628375\ttotal: 2m 8s\tremaining: 5m 46s\n",
      "271:\tlearn: 1.4620540\ttotal: 2m 9s\tremaining: 5m 45s\n",
      "272:\tlearn: 1.4608291\ttotal: 2m 9s\tremaining: 5m 45s\n",
      "273:\tlearn: 1.4589280\ttotal: 2m 10s\tremaining: 5m 44s\n",
      "274:\tlearn: 1.4577673\ttotal: 2m 10s\tremaining: 5m 44s\n",
      "275:\tlearn: 1.4568258\ttotal: 2m 11s\tremaining: 5m 43s\n",
      "276:\tlearn: 1.4549012\ttotal: 2m 11s\tremaining: 5m 43s\n",
      "277:\tlearn: 1.4538298\ttotal: 2m 11s\tremaining: 5m 42s\n",
      "278:\tlearn: 1.4531153\ttotal: 2m 12s\tremaining: 5m 42s\n",
      "279:\tlearn: 1.4516168\ttotal: 2m 12s\tremaining: 5m 41s\n",
      "280:\tlearn: 1.4500175\ttotal: 2m 13s\tremaining: 5m 41s\n",
      "281:\tlearn: 1.4480917\ttotal: 2m 13s\tremaining: 5m 40s\n",
      "282:\tlearn: 1.4469870\ttotal: 2m 14s\tremaining: 5m 40s\n",
      "283:\tlearn: 1.4457516\ttotal: 2m 14s\tremaining: 5m 39s\n",
      "284:\tlearn: 1.4445310\ttotal: 2m 15s\tremaining: 5m 39s\n",
      "285:\tlearn: 1.4429055\ttotal: 2m 15s\tremaining: 5m 38s\n",
      "286:\tlearn: 1.4415932\ttotal: 2m 16s\tremaining: 5m 38s\n",
      "287:\tlearn: 1.4405539\ttotal: 2m 16s\tremaining: 5m 37s\n",
      "288:\tlearn: 1.4393254\ttotal: 2m 16s\tremaining: 5m 36s\n",
      "289:\tlearn: 1.4385364\ttotal: 2m 17s\tremaining: 5m 36s\n",
      "290:\tlearn: 1.4375717\ttotal: 2m 17s\tremaining: 5m 35s\n",
      "291:\tlearn: 1.4360221\ttotal: 2m 18s\tremaining: 5m 35s\n",
      "292:\tlearn: 1.4348690\ttotal: 2m 18s\tremaining: 5m 34s\n",
      "293:\tlearn: 1.4344560\ttotal: 2m 19s\tremaining: 5m 34s\n",
      "294:\tlearn: 1.4324761\ttotal: 2m 19s\tremaining: 5m 33s\n",
      "295:\tlearn: 1.4310587\ttotal: 2m 20s\tremaining: 5m 33s\n",
      "296:\tlearn: 1.4297081\ttotal: 2m 20s\tremaining: 5m 33s\n",
      "297:\tlearn: 1.4285971\ttotal: 2m 21s\tremaining: 5m 32s\n",
      "298:\tlearn: 1.4272005\ttotal: 2m 21s\tremaining: 5m 32s\n",
      "299:\tlearn: 1.4262818\ttotal: 2m 22s\tremaining: 5m 31s\n",
      "300:\tlearn: 1.4245187\ttotal: 2m 22s\tremaining: 5m 31s\n",
      "301:\tlearn: 1.4233582\ttotal: 2m 23s\tremaining: 5m 30s\n",
      "302:\tlearn: 1.4223776\ttotal: 2m 23s\tremaining: 5m 30s\n",
      "303:\tlearn: 1.4215696\ttotal: 2m 23s\tremaining: 5m 29s\n",
      "304:\tlearn: 1.4197372\ttotal: 2m 24s\tremaining: 5m 28s\n",
      "305:\tlearn: 1.4182686\ttotal: 2m 24s\tremaining: 5m 28s\n",
      "306:\tlearn: 1.4168806\ttotal: 2m 25s\tremaining: 5m 28s\n",
      "307:\tlearn: 1.4152673\ttotal: 2m 25s\tremaining: 5m 27s\n",
      "308:\tlearn: 1.4139672\ttotal: 2m 26s\tremaining: 5m 27s\n",
      "309:\tlearn: 1.4128334\ttotal: 2m 26s\tremaining: 5m 26s\n",
      "310:\tlearn: 1.4116269\ttotal: 2m 27s\tremaining: 5m 26s\n",
      "311:\tlearn: 1.4111595\ttotal: 2m 27s\tremaining: 5m 25s\n",
      "312:\tlearn: 1.4099606\ttotal: 2m 28s\tremaining: 5m 24s\n",
      "313:\tlearn: 1.4082878\ttotal: 2m 28s\tremaining: 5m 24s\n",
      "314:\tlearn: 1.4073663\ttotal: 2m 28s\tremaining: 5m 23s\n",
      "315:\tlearn: 1.4068399\ttotal: 2m 29s\tremaining: 5m 23s\n",
      "316:\tlearn: 1.4054658\ttotal: 2m 29s\tremaining: 5m 22s\n",
      "317:\tlearn: 1.4048705\ttotal: 2m 30s\tremaining: 5m 22s\n",
      "318:\tlearn: 1.4038600\ttotal: 2m 30s\tremaining: 5m 21s\n",
      "319:\tlearn: 1.4021775\ttotal: 2m 31s\tremaining: 5m 21s\n",
      "320:\tlearn: 1.4014361\ttotal: 2m 31s\tremaining: 5m 20s\n",
      "321:\tlearn: 1.4000594\ttotal: 2m 32s\tremaining: 5m 20s\n",
      "322:\tlearn: 1.3992029\ttotal: 2m 32s\tremaining: 5m 19s\n",
      "323:\tlearn: 1.3978409\ttotal: 2m 32s\tremaining: 5m 19s\n",
      "324:\tlearn: 1.3962470\ttotal: 2m 33s\tremaining: 5m 18s\n",
      "325:\tlearn: 1.3949277\ttotal: 2m 33s\tremaining: 5m 17s\n",
      "326:\tlearn: 1.3940746\ttotal: 2m 34s\tremaining: 5m 17s\n",
      "327:\tlearn: 1.3934576\ttotal: 2m 34s\tremaining: 5m 16s\n",
      "328:\tlearn: 1.3929589\ttotal: 2m 35s\tremaining: 5m 16s\n",
      "329:\tlearn: 1.3924978\ttotal: 2m 35s\tremaining: 5m 15s\n",
      "330:\tlearn: 1.3922261\ttotal: 2m 35s\tremaining: 5m 15s\n",
      "331:\tlearn: 1.3909488\ttotal: 2m 36s\tremaining: 5m 14s\n",
      "332:\tlearn: 1.3896291\ttotal: 2m 36s\tremaining: 5m 14s\n",
      "333:\tlearn: 1.3885310\ttotal: 2m 37s\tremaining: 5m 13s\n",
      "334:\tlearn: 1.3872485\ttotal: 2m 37s\tremaining: 5m 13s\n",
      "335:\tlearn: 1.3854809\ttotal: 2m 38s\tremaining: 5m 12s\n",
      "336:\tlearn: 1.3842156\ttotal: 2m 38s\tremaining: 5m 12s\n",
      "337:\tlearn: 1.3832501\ttotal: 2m 39s\tremaining: 5m 11s\n",
      "338:\tlearn: 1.3823622\ttotal: 2m 39s\tremaining: 5m 11s\n",
      "339:\tlearn: 1.3815871\ttotal: 2m 40s\tremaining: 5m 10s\n",
      "340:\tlearn: 1.3812928\ttotal: 2m 40s\tremaining: 5m 10s\n",
      "341:\tlearn: 1.3796111\ttotal: 2m 41s\tremaining: 5m 9s\n",
      "342:\tlearn: 1.3787078\ttotal: 2m 41s\tremaining: 5m 9s\n",
      "343:\tlearn: 1.3774304\ttotal: 2m 41s\tremaining: 5m 8s\n",
      "344:\tlearn: 1.3764533\ttotal: 2m 42s\tremaining: 5m 8s\n",
      "345:\tlearn: 1.3752085\ttotal: 2m 42s\tremaining: 5m 7s\n",
      "346:\tlearn: 1.3746037\ttotal: 2m 43s\tremaining: 5m 7s\n",
      "347:\tlearn: 1.3735163\ttotal: 2m 43s\tremaining: 5m 6s\n",
      "348:\tlearn: 1.3725094\ttotal: 2m 44s\tremaining: 5m 6s\n",
      "349:\tlearn: 1.3716091\ttotal: 2m 44s\tremaining: 5m 5s\n",
      "350:\tlearn: 1.3705774\ttotal: 2m 45s\tremaining: 5m 5s\n",
      "351:\tlearn: 1.3701303\ttotal: 2m 45s\tremaining: 5m 4s\n",
      "352:\tlearn: 1.3695862\ttotal: 2m 46s\tremaining: 5m 4s\n",
      "353:\tlearn: 1.3684530\ttotal: 2m 46s\tremaining: 5m 3s\n",
      "354:\tlearn: 1.3674341\ttotal: 2m 46s\tremaining: 5m 3s\n",
      "355:\tlearn: 1.3666225\ttotal: 2m 47s\tremaining: 5m 2s\n",
      "356:\tlearn: 1.3660468\ttotal: 2m 47s\tremaining: 5m 2s\n",
      "357:\tlearn: 1.3651632\ttotal: 2m 48s\tremaining: 5m 1s\n",
      "358:\tlearn: 1.3640051\ttotal: 2m 48s\tremaining: 5m 1s\n",
      "359:\tlearn: 1.3629381\ttotal: 2m 49s\tremaining: 5m\n",
      "360:\tlearn: 1.3617875\ttotal: 2m 49s\tremaining: 5m\n",
      "361:\tlearn: 1.3599859\ttotal: 2m 50s\tremaining: 4m 59s\n",
      "362:\tlearn: 1.3590438\ttotal: 2m 50s\tremaining: 4m 59s\n",
      "363:\tlearn: 1.3583111\ttotal: 2m 51s\tremaining: 4m 59s\n",
      "364:\tlearn: 1.3573456\ttotal: 2m 51s\tremaining: 4m 58s\n",
      "365:\tlearn: 1.3567008\ttotal: 2m 52s\tremaining: 4m 58s\n",
      "366:\tlearn: 1.3558021\ttotal: 2m 52s\tremaining: 4m 57s\n",
      "367:\tlearn: 1.3542976\ttotal: 2m 52s\tremaining: 4m 57s\n",
      "368:\tlearn: 1.3535792\ttotal: 2m 53s\tremaining: 4m 56s\n",
      "369:\tlearn: 1.3532117\ttotal: 2m 53s\tremaining: 4m 56s\n",
      "370:\tlearn: 1.3523033\ttotal: 2m 54s\tremaining: 4m 55s\n",
      "371:\tlearn: 1.3513269\ttotal: 2m 54s\tremaining: 4m 55s\n",
      "372:\tlearn: 1.3506046\ttotal: 2m 55s\tremaining: 4m 54s\n",
      "373:\tlearn: 1.3501443\ttotal: 2m 55s\tremaining: 4m 54s\n",
      "374:\tlearn: 1.3494703\ttotal: 2m 56s\tremaining: 4m 53s\n",
      "375:\tlearn: 1.3482620\ttotal: 2m 56s\tremaining: 4m 53s\n",
      "376:\tlearn: 1.3471792\ttotal: 2m 57s\tremaining: 4m 52s\n",
      "377:\tlearn: 1.3458051\ttotal: 2m 57s\tremaining: 4m 52s\n",
      "378:\tlearn: 1.3441485\ttotal: 2m 58s\tremaining: 4m 51s\n",
      "379:\tlearn: 1.3430325\ttotal: 2m 58s\tremaining: 4m 51s\n",
      "380:\tlearn: 1.3419418\ttotal: 2m 58s\tremaining: 4m 50s\n",
      "381:\tlearn: 1.3406362\ttotal: 2m 59s\tremaining: 4m 50s\n",
      "382:\tlearn: 1.3396819\ttotal: 2m 59s\tremaining: 4m 49s\n",
      "383:\tlearn: 1.3384538\ttotal: 3m\tremaining: 4m 49s\n",
      "384:\tlearn: 1.3379041\ttotal: 3m\tremaining: 4m 48s\n",
      "385:\tlearn: 1.3367347\ttotal: 3m 1s\tremaining: 4m 48s\n",
      "386:\tlearn: 1.3359114\ttotal: 3m 1s\tremaining: 4m 47s\n",
      "387:\tlearn: 1.3349370\ttotal: 3m 2s\tremaining: 4m 47s\n",
      "388:\tlearn: 1.3339421\ttotal: 3m 2s\tremaining: 4m 46s\n",
      "389:\tlearn: 1.3336572\ttotal: 3m 3s\tremaining: 4m 46s\n",
      "390:\tlearn: 1.3329722\ttotal: 3m 3s\tremaining: 4m 45s\n",
      "391:\tlearn: 1.3314902\ttotal: 3m 3s\tremaining: 4m 45s\n",
      "392:\tlearn: 1.3301805\ttotal: 3m 4s\tremaining: 4m 44s\n",
      "393:\tlearn: 1.3288168\ttotal: 3m 4s\tremaining: 4m 44s\n",
      "394:\tlearn: 1.3275392\ttotal: 3m 5s\tremaining: 4m 43s\n",
      "395:\tlearn: 1.3264052\ttotal: 3m 5s\tremaining: 4m 43s\n",
      "396:\tlearn: 1.3254366\ttotal: 3m 6s\tremaining: 4m 42s\n",
      "397:\tlearn: 1.3246507\ttotal: 3m 6s\tremaining: 4m 42s\n",
      "398:\tlearn: 1.3231547\ttotal: 3m 7s\tremaining: 4m 42s\n",
      "399:\tlearn: 1.3229977\ttotal: 3m 7s\tremaining: 4m 41s\n",
      "400:\tlearn: 1.3223597\ttotal: 3m 8s\tremaining: 4m 41s\n",
      "401:\tlearn: 1.3214951\ttotal: 3m 8s\tremaining: 4m 40s\n",
      "402:\tlearn: 1.3203984\ttotal: 3m 9s\tremaining: 4m 40s\n",
      "403:\tlearn: 1.3186655\ttotal: 3m 9s\tremaining: 4m 39s\n",
      "404:\tlearn: 1.3175052\ttotal: 3m 9s\tremaining: 4m 39s\n",
      "405:\tlearn: 1.3165636\ttotal: 3m 10s\tremaining: 4m 38s\n",
      "406:\tlearn: 1.3153531\ttotal: 3m 10s\tremaining: 4m 38s\n",
      "407:\tlearn: 1.3138576\ttotal: 3m 11s\tremaining: 4m 37s\n",
      "408:\tlearn: 1.3131269\ttotal: 3m 11s\tremaining: 4m 37s\n",
      "409:\tlearn: 1.3122185\ttotal: 3m 12s\tremaining: 4m 36s\n",
      "410:\tlearn: 1.3118353\ttotal: 3m 12s\tremaining: 4m 36s\n",
      "411:\tlearn: 1.3109406\ttotal: 3m 13s\tremaining: 4m 35s\n",
      "412:\tlearn: 1.3105581\ttotal: 3m 13s\tremaining: 4m 35s\n",
      "413:\tlearn: 1.3091799\ttotal: 3m 14s\tremaining: 4m 34s\n",
      "414:\tlearn: 1.3081731\ttotal: 3m 14s\tremaining: 4m 34s\n",
      "415:\tlearn: 1.3070381\ttotal: 3m 15s\tremaining: 4m 33s\n",
      "416:\tlearn: 1.3060754\ttotal: 3m 15s\tremaining: 4m 33s\n",
      "417:\tlearn: 1.3052969\ttotal: 3m 16s\tremaining: 4m 32s\n",
      "418:\tlearn: 1.3037921\ttotal: 3m 16s\tremaining: 4m 32s\n",
      "419:\tlearn: 1.3025752\ttotal: 3m 16s\tremaining: 4m 31s\n",
      "420:\tlearn: 1.3011402\ttotal: 3m 17s\tremaining: 4m 31s\n",
      "421:\tlearn: 1.3005593\ttotal: 3m 17s\tremaining: 4m 31s\n",
      "422:\tlearn: 1.2994151\ttotal: 3m 18s\tremaining: 4m 30s\n",
      "423:\tlearn: 1.2987198\ttotal: 3m 18s\tremaining: 4m 30s\n",
      "424:\tlearn: 1.2978397\ttotal: 3m 19s\tremaining: 4m 29s\n",
      "425:\tlearn: 1.2964382\ttotal: 3m 19s\tremaining: 4m 29s\n",
      "426:\tlearn: 1.2956030\ttotal: 3m 20s\tremaining: 4m 28s\n",
      "427:\tlearn: 1.2939612\ttotal: 3m 20s\tremaining: 4m 28s\n",
      "428:\tlearn: 1.2927574\ttotal: 3m 21s\tremaining: 4m 27s\n",
      "429:\tlearn: 1.2915386\ttotal: 3m 21s\tremaining: 4m 27s\n",
      "430:\tlearn: 1.2898041\ttotal: 3m 21s\tremaining: 4m 26s\n",
      "431:\tlearn: 1.2889182\ttotal: 3m 22s\tremaining: 4m 26s\n",
      "432:\tlearn: 1.2876848\ttotal: 3m 22s\tremaining: 4m 25s\n",
      "433:\tlearn: 1.2865672\ttotal: 3m 23s\tremaining: 4m 25s\n",
      "434:\tlearn: 1.2856492\ttotal: 3m 23s\tremaining: 4m 24s\n",
      "435:\tlearn: 1.2855415\ttotal: 3m 24s\tremaining: 4m 24s\n",
      "436:\tlearn: 1.2846780\ttotal: 3m 24s\tremaining: 4m 23s\n",
      "437:\tlearn: 1.2839565\ttotal: 3m 25s\tremaining: 4m 23s\n",
      "438:\tlearn: 1.2827274\ttotal: 3m 25s\tremaining: 4m 22s\n",
      "439:\tlearn: 1.2814425\ttotal: 3m 26s\tremaining: 4m 22s\n",
      "440:\tlearn: 1.2809471\ttotal: 3m 26s\tremaining: 4m 21s\n",
      "441:\tlearn: 1.2805700\ttotal: 3m 27s\tremaining: 4m 21s\n",
      "442:\tlearn: 1.2797688\ttotal: 3m 27s\tremaining: 4m 20s\n",
      "443:\tlearn: 1.2791813\ttotal: 3m 27s\tremaining: 4m 20s\n",
      "444:\tlearn: 1.2786347\ttotal: 3m 28s\tremaining: 4m 19s\n",
      "445:\tlearn: 1.2775758\ttotal: 3m 28s\tremaining: 4m 19s\n",
      "446:\tlearn: 1.2764151\ttotal: 3m 29s\tremaining: 4m 18s\n",
      "447:\tlearn: 1.2755520\ttotal: 3m 29s\tremaining: 4m 18s\n",
      "448:\tlearn: 1.2750822\ttotal: 3m 30s\tremaining: 4m 17s\n",
      "449:\tlearn: 1.2736522\ttotal: 3m 30s\tremaining: 4m 17s\n",
      "450:\tlearn: 1.2730316\ttotal: 3m 31s\tremaining: 4m 16s\n",
      "451:\tlearn: 1.2718420\ttotal: 3m 31s\tremaining: 4m 16s\n",
      "452:\tlearn: 1.2710689\ttotal: 3m 32s\tremaining: 4m 16s\n",
      "453:\tlearn: 1.2706410\ttotal: 3m 32s\tremaining: 4m 15s\n",
      "454:\tlearn: 1.2701894\ttotal: 3m 32s\tremaining: 4m 15s\n",
      "455:\tlearn: 1.2689736\ttotal: 3m 33s\tremaining: 4m 14s\n",
      "456:\tlearn: 1.2683503\ttotal: 3m 33s\tremaining: 4m 14s\n",
      "457:\tlearn: 1.2673597\ttotal: 3m 34s\tremaining: 4m 13s\n",
      "458:\tlearn: 1.2666358\ttotal: 3m 34s\tremaining: 4m 13s\n",
      "459:\tlearn: 1.2658785\ttotal: 3m 35s\tremaining: 4m 12s\n",
      "460:\tlearn: 1.2650511\ttotal: 3m 35s\tremaining: 4m 12s\n",
      "461:\tlearn: 1.2640729\ttotal: 3m 36s\tremaining: 4m 11s\n",
      "462:\tlearn: 1.2631091\ttotal: 3m 36s\tremaining: 4m 11s\n",
      "463:\tlearn: 1.2629221\ttotal: 3m 37s\tremaining: 4m 10s\n",
      "464:\tlearn: 1.2619627\ttotal: 3m 37s\tremaining: 4m 10s\n",
      "465:\tlearn: 1.2612894\ttotal: 3m 38s\tremaining: 4m 9s\n",
      "466:\tlearn: 1.2605733\ttotal: 3m 38s\tremaining: 4m 9s\n",
      "467:\tlearn: 1.2596180\ttotal: 3m 38s\tremaining: 4m 8s\n",
      "468:\tlearn: 1.2589878\ttotal: 3m 39s\tremaining: 4m 8s\n",
      "469:\tlearn: 1.2578508\ttotal: 3m 39s\tremaining: 4m 7s\n",
      "470:\tlearn: 1.2569765\ttotal: 3m 40s\tremaining: 4m 7s\n",
      "471:\tlearn: 1.2561338\ttotal: 3m 40s\tremaining: 4m 6s\n",
      "472:\tlearn: 1.2553862\ttotal: 3m 41s\tremaining: 4m 6s\n",
      "473:\tlearn: 1.2549982\ttotal: 3m 41s\tremaining: 4m 5s\n",
      "474:\tlearn: 1.2538506\ttotal: 3m 42s\tremaining: 4m 5s\n",
      "475:\tlearn: 1.2534150\ttotal: 3m 42s\tremaining: 4m 4s\n",
      "476:\tlearn: 1.2528538\ttotal: 3m 42s\tremaining: 4m 4s\n",
      "477:\tlearn: 1.2518931\ttotal: 3m 43s\tremaining: 4m 4s\n",
      "478:\tlearn: 1.2514595\ttotal: 3m 43s\tremaining: 4m 3s\n",
      "479:\tlearn: 1.2507121\ttotal: 3m 44s\tremaining: 4m 3s\n",
      "480:\tlearn: 1.2497395\ttotal: 3m 44s\tremaining: 4m 2s\n",
      "481:\tlearn: 1.2490923\ttotal: 3m 45s\tremaining: 4m 2s\n",
      "482:\tlearn: 1.2484247\ttotal: 3m 45s\tremaining: 4m 1s\n",
      "483:\tlearn: 1.2477311\ttotal: 3m 46s\tremaining: 4m 1s\n",
      "484:\tlearn: 1.2471229\ttotal: 3m 46s\tremaining: 4m\n",
      "485:\tlearn: 1.2466549\ttotal: 3m 47s\tremaining: 4m\n",
      "486:\tlearn: 1.2465372\ttotal: 3m 47s\tremaining: 3m 59s\n",
      "487:\tlearn: 1.2458294\ttotal: 3m 48s\tremaining: 3m 59s\n",
      "488:\tlearn: 1.2451921\ttotal: 3m 48s\tremaining: 3m 58s\n",
      "489:\tlearn: 1.2443734\ttotal: 3m 48s\tremaining: 3m 58s\n",
      "490:\tlearn: 1.2436673\ttotal: 3m 49s\tremaining: 3m 57s\n",
      "491:\tlearn: 1.2429994\ttotal: 3m 49s\tremaining: 3m 57s\n",
      "492:\tlearn: 1.2422387\ttotal: 3m 50s\tremaining: 3m 56s\n",
      "493:\tlearn: 1.2418335\ttotal: 3m 50s\tremaining: 3m 56s\n",
      "494:\tlearn: 1.2403985\ttotal: 3m 51s\tremaining: 3m 55s\n",
      "495:\tlearn: 1.2399278\ttotal: 3m 51s\tremaining: 3m 55s\n",
      "496:\tlearn: 1.2386432\ttotal: 3m 52s\tremaining: 3m 54s\n",
      "497:\tlearn: 1.2377667\ttotal: 3m 52s\tremaining: 3m 54s\n",
      "498:\tlearn: 1.2374217\ttotal: 3m 53s\tremaining: 3m 54s\n",
      "499:\tlearn: 1.2366491\ttotal: 3m 53s\tremaining: 3m 53s\n",
      "500:\tlearn: 1.2357673\ttotal: 3m 54s\tremaining: 3m 53s\n",
      "501:\tlearn: 1.2351575\ttotal: 3m 54s\tremaining: 3m 52s\n",
      "502:\tlearn: 1.2347470\ttotal: 3m 54s\tremaining: 3m 52s\n",
      "503:\tlearn: 1.2337393\ttotal: 3m 55s\tremaining: 3m 51s\n",
      "504:\tlearn: 1.2331993\ttotal: 3m 55s\tremaining: 3m 51s\n",
      "505:\tlearn: 1.2320502\ttotal: 3m 56s\tremaining: 3m 50s\n",
      "506:\tlearn: 1.2307323\ttotal: 3m 56s\tremaining: 3m 50s\n",
      "507:\tlearn: 1.2300182\ttotal: 3m 57s\tremaining: 3m 49s\n",
      "508:\tlearn: 1.2293536\ttotal: 3m 57s\tremaining: 3m 49s\n",
      "509:\tlearn: 1.2287104\ttotal: 3m 58s\tremaining: 3m 48s\n",
      "510:\tlearn: 1.2272190\ttotal: 3m 58s\tremaining: 3m 48s\n",
      "511:\tlearn: 1.2266467\ttotal: 3m 58s\tremaining: 3m 47s\n",
      "512:\tlearn: 1.2263520\ttotal: 3m 59s\tremaining: 3m 47s\n",
      "513:\tlearn: 1.2254771\ttotal: 3m 59s\tremaining: 3m 46s\n",
      "514:\tlearn: 1.2247383\ttotal: 4m\tremaining: 3m 46s\n",
      "515:\tlearn: 1.2244353\ttotal: 4m\tremaining: 3m 45s\n",
      "516:\tlearn: 1.2231102\ttotal: 4m 1s\tremaining: 3m 45s\n",
      "517:\tlearn: 1.2222019\ttotal: 4m 1s\tremaining: 3m 44s\n",
      "518:\tlearn: 1.2212988\ttotal: 4m 2s\tremaining: 3m 44s\n",
      "519:\tlearn: 1.2207677\ttotal: 4m 2s\tremaining: 3m 43s\n",
      "520:\tlearn: 1.2198427\ttotal: 4m 3s\tremaining: 3m 43s\n",
      "521:\tlearn: 1.2183774\ttotal: 4m 3s\tremaining: 3m 42s\n",
      "522:\tlearn: 1.2179468\ttotal: 4m 3s\tremaining: 3m 42s\n",
      "523:\tlearn: 1.2173196\ttotal: 4m 4s\tremaining: 3m 41s\n",
      "524:\tlearn: 1.2166165\ttotal: 4m 4s\tremaining: 3m 41s\n",
      "525:\tlearn: 1.2157877\ttotal: 4m 5s\tremaining: 3m 41s\n",
      "526:\tlearn: 1.2150141\ttotal: 4m 5s\tremaining: 3m 40s\n",
      "527:\tlearn: 1.2147192\ttotal: 4m 6s\tremaining: 3m 40s\n",
      "528:\tlearn: 1.2141727\ttotal: 4m 6s\tremaining: 3m 39s\n",
      "529:\tlearn: 1.2136082\ttotal: 4m 7s\tremaining: 3m 39s\n",
      "530:\tlearn: 1.2127373\ttotal: 4m 7s\tremaining: 3m 38s\n",
      "531:\tlearn: 1.2122169\ttotal: 4m 7s\tremaining: 3m 38s\n",
      "532:\tlearn: 1.2118749\ttotal: 4m 8s\tremaining: 3m 37s\n",
      "533:\tlearn: 1.2114623\ttotal: 4m 8s\tremaining: 3m 37s\n",
      "534:\tlearn: 1.2107011\ttotal: 4m 9s\tremaining: 3m 36s\n",
      "535:\tlearn: 1.2096235\ttotal: 4m 9s\tremaining: 3m 36s\n",
      "536:\tlearn: 1.2084088\ttotal: 4m 10s\tremaining: 3m 35s\n",
      "537:\tlearn: 1.2077377\ttotal: 4m 10s\tremaining: 3m 35s\n",
      "538:\tlearn: 1.2068734\ttotal: 4m 11s\tremaining: 3m 34s\n",
      "539:\tlearn: 1.2057033\ttotal: 4m 11s\tremaining: 3m 34s\n",
      "540:\tlearn: 1.2045845\ttotal: 4m 12s\tremaining: 3m 33s\n",
      "541:\tlearn: 1.2034317\ttotal: 4m 12s\tremaining: 3m 33s\n",
      "542:\tlearn: 1.2025662\ttotal: 4m 12s\tremaining: 3m 32s\n",
      "543:\tlearn: 1.2016590\ttotal: 4m 13s\tremaining: 3m 32s\n",
      "544:\tlearn: 1.2008308\ttotal: 4m 13s\tremaining: 3m 31s\n",
      "545:\tlearn: 1.2003773\ttotal: 4m 14s\tremaining: 3m 31s\n",
      "546:\tlearn: 1.2002306\ttotal: 4m 14s\tremaining: 3m 30s\n",
      "547:\tlearn: 1.1993681\ttotal: 4m 15s\tremaining: 3m 30s\n",
      "548:\tlearn: 1.1983866\ttotal: 4m 15s\tremaining: 3m 30s\n",
      "549:\tlearn: 1.1971664\ttotal: 4m 16s\tremaining: 3m 29s\n",
      "550:\tlearn: 1.1966631\ttotal: 4m 16s\tremaining: 3m 29s\n",
      "551:\tlearn: 1.1957174\ttotal: 4m 17s\tremaining: 3m 28s\n",
      "552:\tlearn: 1.1946190\ttotal: 4m 17s\tremaining: 3m 28s\n",
      "553:\tlearn: 1.1939148\ttotal: 4m 17s\tremaining: 3m 27s\n",
      "554:\tlearn: 1.1931462\ttotal: 4m 18s\tremaining: 3m 27s\n",
      "555:\tlearn: 1.1921210\ttotal: 4m 18s\tremaining: 3m 26s\n",
      "556:\tlearn: 1.1920098\ttotal: 4m 19s\tremaining: 3m 26s\n",
      "557:\tlearn: 1.1916333\ttotal: 4m 19s\tremaining: 3m 25s\n",
      "558:\tlearn: 1.1908632\ttotal: 4m 20s\tremaining: 3m 25s\n",
      "559:\tlearn: 1.1901236\ttotal: 4m 20s\tremaining: 3m 24s\n",
      "560:\tlearn: 1.1888535\ttotal: 4m 21s\tremaining: 3m 24s\n",
      "561:\tlearn: 1.1877777\ttotal: 4m 21s\tremaining: 3m 23s\n",
      "562:\tlearn: 1.1869718\ttotal: 4m 22s\tremaining: 3m 23s\n",
      "563:\tlearn: 1.1861487\ttotal: 4m 22s\tremaining: 3m 22s\n",
      "564:\tlearn: 1.1846629\ttotal: 4m 22s\tremaining: 3m 22s\n",
      "565:\tlearn: 1.1842743\ttotal: 4m 23s\tremaining: 3m 21s\n",
      "566:\tlearn: 1.1830778\ttotal: 4m 23s\tremaining: 3m 21s\n",
      "567:\tlearn: 1.1816800\ttotal: 4m 24s\tremaining: 3m 21s\n",
      "568:\tlearn: 1.1810526\ttotal: 4m 24s\tremaining: 3m 20s\n",
      "569:\tlearn: 1.1802269\ttotal: 4m 25s\tremaining: 3m 20s\n",
      "570:\tlearn: 1.1793719\ttotal: 4m 25s\tremaining: 3m 19s\n",
      "571:\tlearn: 1.1788138\ttotal: 4m 26s\tremaining: 3m 19s\n",
      "572:\tlearn: 1.1781555\ttotal: 4m 26s\tremaining: 3m 18s\n",
      "573:\tlearn: 1.1776217\ttotal: 4m 27s\tremaining: 3m 18s\n",
      "574:\tlearn: 1.1766830\ttotal: 4m 27s\tremaining: 3m 17s\n",
      "575:\tlearn: 1.1759947\ttotal: 4m 28s\tremaining: 3m 17s\n",
      "576:\tlearn: 1.1755858\ttotal: 4m 28s\tremaining: 3m 16s\n",
      "577:\tlearn: 1.1742285\ttotal: 4m 28s\tremaining: 3m 16s\n",
      "578:\tlearn: 1.1736745\ttotal: 4m 29s\tremaining: 3m 15s\n",
      "579:\tlearn: 1.1733995\ttotal: 4m 29s\tremaining: 3m 15s\n",
      "580:\tlearn: 1.1729540\ttotal: 4m 30s\tremaining: 3m 14s\n",
      "581:\tlearn: 1.1722404\ttotal: 4m 30s\tremaining: 3m 14s\n",
      "582:\tlearn: 1.1714519\ttotal: 4m 31s\tremaining: 3m 13s\n",
      "583:\tlearn: 1.1706416\ttotal: 4m 31s\tremaining: 3m 13s\n",
      "584:\tlearn: 1.1699783\ttotal: 4m 32s\tremaining: 3m 12s\n",
      "585:\tlearn: 1.1684538\ttotal: 4m 32s\tremaining: 3m 12s\n",
      "586:\tlearn: 1.1680045\ttotal: 4m 32s\tremaining: 3m 12s\n",
      "587:\tlearn: 1.1668193\ttotal: 4m 33s\tremaining: 3m 11s\n",
      "588:\tlearn: 1.1661036\ttotal: 4m 33s\tremaining: 3m 11s\n",
      "589:\tlearn: 1.1651782\ttotal: 4m 34s\tremaining: 3m 10s\n",
      "590:\tlearn: 1.1647466\ttotal: 4m 34s\tremaining: 3m 10s\n",
      "591:\tlearn: 1.1642323\ttotal: 4m 35s\tremaining: 3m 9s\n",
      "592:\tlearn: 1.1636694\ttotal: 4m 35s\tremaining: 3m 9s\n",
      "593:\tlearn: 1.1630332\ttotal: 4m 36s\tremaining: 3m 8s\n",
      "594:\tlearn: 1.1628406\ttotal: 4m 36s\tremaining: 3m 8s\n",
      "595:\tlearn: 1.1620323\ttotal: 4m 37s\tremaining: 3m 7s\n",
      "596:\tlearn: 1.1611459\ttotal: 4m 37s\tremaining: 3m 7s\n",
      "597:\tlearn: 1.1601792\ttotal: 4m 37s\tremaining: 3m 6s\n",
      "598:\tlearn: 1.1590785\ttotal: 4m 38s\tremaining: 3m 6s\n",
      "599:\tlearn: 1.1587249\ttotal: 4m 38s\tremaining: 3m 5s\n",
      "600:\tlearn: 1.1582545\ttotal: 4m 39s\tremaining: 3m 5s\n",
      "601:\tlearn: 1.1575995\ttotal: 4m 39s\tremaining: 3m 4s\n",
      "602:\tlearn: 1.1566181\ttotal: 4m 40s\tremaining: 3m 4s\n",
      "603:\tlearn: 1.1564397\ttotal: 4m 40s\tremaining: 3m 4s\n",
      "604:\tlearn: 1.1562360\ttotal: 4m 41s\tremaining: 3m 3s\n",
      "605:\tlearn: 1.1554258\ttotal: 4m 41s\tremaining: 3m 3s\n",
      "606:\tlearn: 1.1551431\ttotal: 4m 42s\tremaining: 3m 2s\n",
      "607:\tlearn: 1.1544187\ttotal: 4m 42s\tremaining: 3m 2s\n",
      "608:\tlearn: 1.1537054\ttotal: 4m 42s\tremaining: 3m 1s\n",
      "609:\tlearn: 1.1534380\ttotal: 4m 43s\tremaining: 3m 1s\n",
      "610:\tlearn: 1.1523262\ttotal: 4m 43s\tremaining: 3m\n",
      "611:\tlearn: 1.1517418\ttotal: 4m 44s\tremaining: 3m\n",
      "612:\tlearn: 1.1515833\ttotal: 4m 44s\tremaining: 2m 59s\n",
      "613:\tlearn: 1.1505486\ttotal: 4m 45s\tremaining: 2m 59s\n",
      "614:\tlearn: 1.1493200\ttotal: 4m 45s\tremaining: 2m 58s\n",
      "615:\tlearn: 1.1483563\ttotal: 4m 46s\tremaining: 2m 58s\n",
      "616:\tlearn: 1.1473757\ttotal: 4m 46s\tremaining: 2m 57s\n",
      "617:\tlearn: 1.1466899\ttotal: 4m 47s\tremaining: 2m 57s\n",
      "618:\tlearn: 1.1458702\ttotal: 4m 47s\tremaining: 2m 56s\n",
      "619:\tlearn: 1.1452950\ttotal: 4m 47s\tremaining: 2m 56s\n",
      "620:\tlearn: 1.1446096\ttotal: 4m 48s\tremaining: 2m 56s\n",
      "621:\tlearn: 1.1436599\ttotal: 4m 48s\tremaining: 2m 55s\n",
      "622:\tlearn: 1.1433567\ttotal: 4m 49s\tremaining: 2m 55s\n",
      "623:\tlearn: 1.1425189\ttotal: 4m 49s\tremaining: 2m 54s\n",
      "624:\tlearn: 1.1416025\ttotal: 4m 50s\tremaining: 2m 54s\n",
      "625:\tlearn: 1.1411123\ttotal: 4m 50s\tremaining: 2m 53s\n",
      "626:\tlearn: 1.1404423\ttotal: 4m 51s\tremaining: 2m 53s\n",
      "627:\tlearn: 1.1402538\ttotal: 4m 51s\tremaining: 2m 52s\n",
      "628:\tlearn: 1.1391164\ttotal: 4m 52s\tremaining: 2m 52s\n",
      "629:\tlearn: 1.1386513\ttotal: 4m 52s\tremaining: 2m 51s\n",
      "630:\tlearn: 1.1381918\ttotal: 4m 53s\tremaining: 2m 51s\n",
      "631:\tlearn: 1.1375206\ttotal: 4m 53s\tremaining: 2m 50s\n",
      "632:\tlearn: 1.1369841\ttotal: 4m 54s\tremaining: 2m 50s\n",
      "633:\tlearn: 1.1367119\ttotal: 4m 54s\tremaining: 2m 50s\n",
      "634:\tlearn: 1.1360087\ttotal: 4m 54s\tremaining: 2m 49s\n",
      "635:\tlearn: 1.1358264\ttotal: 4m 55s\tremaining: 2m 49s\n",
      "636:\tlearn: 1.1352083\ttotal: 4m 55s\tremaining: 2m 48s\n",
      "637:\tlearn: 1.1349315\ttotal: 4m 56s\tremaining: 2m 48s\n",
      "638:\tlearn: 1.1346257\ttotal: 4m 56s\tremaining: 2m 47s\n",
      "639:\tlearn: 1.1342480\ttotal: 4m 57s\tremaining: 2m 47s\n",
      "640:\tlearn: 1.1335603\ttotal: 4m 57s\tremaining: 2m 46s\n",
      "641:\tlearn: 1.1331235\ttotal: 4m 58s\tremaining: 2m 46s\n",
      "642:\tlearn: 1.1322341\ttotal: 4m 58s\tremaining: 2m 45s\n",
      "643:\tlearn: 1.1320843\ttotal: 4m 59s\tremaining: 2m 45s\n",
      "644:\tlearn: 1.1314738\ttotal: 4m 59s\tremaining: 2m 44s\n",
      "645:\tlearn: 1.1301497\ttotal: 4m 59s\tremaining: 2m 44s\n",
      "646:\tlearn: 1.1292537\ttotal: 5m\tremaining: 2m 43s\n",
      "647:\tlearn: 1.1288312\ttotal: 5m\tremaining: 2m 43s\n",
      "648:\tlearn: 1.1282236\ttotal: 5m 1s\tremaining: 2m 43s\n",
      "649:\tlearn: 1.1274379\ttotal: 5m 1s\tremaining: 2m 42s\n",
      "650:\tlearn: 1.1263567\ttotal: 5m 2s\tremaining: 2m 42s\n",
      "651:\tlearn: 1.1256522\ttotal: 5m 2s\tremaining: 2m 41s\n",
      "652:\tlearn: 1.1252734\ttotal: 5m 3s\tremaining: 2m 41s\n",
      "653:\tlearn: 1.1248908\ttotal: 5m 3s\tremaining: 2m 40s\n",
      "654:\tlearn: 1.1244367\ttotal: 5m 4s\tremaining: 2m 40s\n",
      "655:\tlearn: 1.1239887\ttotal: 5m 4s\tremaining: 2m 39s\n",
      "656:\tlearn: 1.1228131\ttotal: 5m 5s\tremaining: 2m 39s\n",
      "657:\tlearn: 1.1221423\ttotal: 5m 5s\tremaining: 2m 38s\n",
      "658:\tlearn: 1.1212497\ttotal: 5m 6s\tremaining: 2m 38s\n",
      "659:\tlearn: 1.1204112\ttotal: 5m 6s\tremaining: 2m 37s\n",
      "660:\tlearn: 1.1198141\ttotal: 5m 6s\tremaining: 2m 37s\n",
      "661:\tlearn: 1.1187869\ttotal: 5m 7s\tremaining: 2m 36s\n",
      "662:\tlearn: 1.1180584\ttotal: 5m 7s\tremaining: 2m 36s\n",
      "663:\tlearn: 1.1172702\ttotal: 5m 8s\tremaining: 2m 36s\n",
      "664:\tlearn: 1.1164270\ttotal: 5m 8s\tremaining: 2m 35s\n",
      "665:\tlearn: 1.1161192\ttotal: 5m 9s\tremaining: 2m 35s\n",
      "666:\tlearn: 1.1160036\ttotal: 5m 9s\tremaining: 2m 34s\n",
      "667:\tlearn: 1.1154243\ttotal: 5m 10s\tremaining: 2m 34s\n",
      "668:\tlearn: 1.1149581\ttotal: 5m 10s\tremaining: 2m 33s\n",
      "669:\tlearn: 1.1140641\ttotal: 5m 11s\tremaining: 2m 33s\n",
      "670:\tlearn: 1.1133649\ttotal: 5m 11s\tremaining: 2m 32s\n",
      "671:\tlearn: 1.1128320\ttotal: 5m 12s\tremaining: 2m 32s\n",
      "672:\tlearn: 1.1121626\ttotal: 5m 12s\tremaining: 2m 31s\n",
      "673:\tlearn: 1.1118509\ttotal: 5m 12s\tremaining: 2m 31s\n",
      "674:\tlearn: 1.1115962\ttotal: 5m 13s\tremaining: 2m 30s\n",
      "675:\tlearn: 1.1113167\ttotal: 5m 13s\tremaining: 2m 30s\n",
      "676:\tlearn: 1.1104722\ttotal: 5m 14s\tremaining: 2m 29s\n",
      "677:\tlearn: 1.1096432\ttotal: 5m 14s\tremaining: 2m 29s\n",
      "678:\tlearn: 1.1086927\ttotal: 5m 15s\tremaining: 2m 29s\n",
      "679:\tlearn: 1.1079874\ttotal: 5m 15s\tremaining: 2m 28s\n",
      "680:\tlearn: 1.1074009\ttotal: 5m 16s\tremaining: 2m 28s\n",
      "681:\tlearn: 1.1067225\ttotal: 5m 16s\tremaining: 2m 27s\n",
      "682:\tlearn: 1.1061045\ttotal: 5m 17s\tremaining: 2m 27s\n",
      "683:\tlearn: 1.1054577\ttotal: 5m 17s\tremaining: 2m 26s\n",
      "684:\tlearn: 1.1047548\ttotal: 5m 17s\tremaining: 2m 26s\n",
      "685:\tlearn: 1.1039864\ttotal: 5m 18s\tremaining: 2m 25s\n",
      "686:\tlearn: 1.1034087\ttotal: 5m 18s\tremaining: 2m 25s\n",
      "687:\tlearn: 1.1024851\ttotal: 5m 19s\tremaining: 2m 24s\n",
      "688:\tlearn: 1.1018778\ttotal: 5m 19s\tremaining: 2m 24s\n",
      "689:\tlearn: 1.1015998\ttotal: 5m 20s\tremaining: 2m 23s\n",
      "690:\tlearn: 1.1006710\ttotal: 5m 20s\tremaining: 2m 23s\n",
      "691:\tlearn: 1.0998401\ttotal: 5m 21s\tremaining: 2m 22s\n",
      "692:\tlearn: 1.0990238\ttotal: 5m 21s\tremaining: 2m 22s\n",
      "693:\tlearn: 1.0986577\ttotal: 5m 21s\tremaining: 2m 21s\n",
      "694:\tlearn: 1.0981176\ttotal: 5m 22s\tremaining: 2m 21s\n",
      "695:\tlearn: 1.0975747\ttotal: 5m 22s\tremaining: 2m 20s\n",
      "696:\tlearn: 1.0966113\ttotal: 5m 23s\tremaining: 2m 20s\n",
      "697:\tlearn: 1.0958186\ttotal: 5m 23s\tremaining: 2m 20s\n",
      "698:\tlearn: 1.0947272\ttotal: 5m 24s\tremaining: 2m 19s\n",
      "699:\tlearn: 1.0943286\ttotal: 5m 24s\tremaining: 2m 19s\n",
      "700:\tlearn: 1.0942246\ttotal: 5m 25s\tremaining: 2m 18s\n",
      "701:\tlearn: 1.0931070\ttotal: 5m 25s\tremaining: 2m 18s\n",
      "702:\tlearn: 1.0925038\ttotal: 5m 26s\tremaining: 2m 17s\n",
      "703:\tlearn: 1.0922985\ttotal: 5m 26s\tremaining: 2m 17s\n",
      "704:\tlearn: 1.0915746\ttotal: 5m 26s\tremaining: 2m 16s\n",
      "705:\tlearn: 1.0909537\ttotal: 5m 27s\tremaining: 2m 16s\n",
      "706:\tlearn: 1.0901443\ttotal: 5m 27s\tremaining: 2m 15s\n",
      "707:\tlearn: 1.0895320\ttotal: 5m 28s\tremaining: 2m 15s\n",
      "708:\tlearn: 1.0888265\ttotal: 5m 28s\tremaining: 2m 14s\n",
      "709:\tlearn: 1.0883975\ttotal: 5m 29s\tremaining: 2m 14s\n",
      "710:\tlearn: 1.0880867\ttotal: 5m 29s\tremaining: 2m 14s\n",
      "711:\tlearn: 1.0869756\ttotal: 5m 30s\tremaining: 2m 13s\n",
      "712:\tlearn: 1.0867963\ttotal: 5m 30s\tremaining: 2m 13s\n",
      "713:\tlearn: 1.0859978\ttotal: 5m 31s\tremaining: 2m 12s\n",
      "714:\tlearn: 1.0853996\ttotal: 5m 31s\tremaining: 2m 12s\n",
      "715:\tlearn: 1.0846466\ttotal: 5m 31s\tremaining: 2m 11s\n",
      "716:\tlearn: 1.0840150\ttotal: 5m 32s\tremaining: 2m 11s\n",
      "717:\tlearn: 1.0832901\ttotal: 5m 32s\tremaining: 2m 10s\n",
      "718:\tlearn: 1.0827668\ttotal: 5m 33s\tremaining: 2m 10s\n",
      "719:\tlearn: 1.0822091\ttotal: 5m 33s\tremaining: 2m 9s\n",
      "720:\tlearn: 1.0812059\ttotal: 5m 34s\tremaining: 2m 9s\n",
      "721:\tlearn: 1.0805205\ttotal: 5m 34s\tremaining: 2m 8s\n",
      "722:\tlearn: 1.0798177\ttotal: 5m 34s\tremaining: 2m 8s\n",
      "723:\tlearn: 1.0796878\ttotal: 5m 35s\tremaining: 2m 7s\n",
      "724:\tlearn: 1.0791937\ttotal: 5m 35s\tremaining: 2m 7s\n",
      "725:\tlearn: 1.0783776\ttotal: 5m 36s\tremaining: 2m 6s\n",
      "726:\tlearn: 1.0777855\ttotal: 5m 36s\tremaining: 2m 6s\n",
      "727:\tlearn: 1.0769905\ttotal: 5m 37s\tremaining: 2m 5s\n",
      "728:\tlearn: 1.0759974\ttotal: 5m 37s\tremaining: 2m 5s\n",
      "729:\tlearn: 1.0754725\ttotal: 5m 37s\tremaining: 2m 4s\n",
      "730:\tlearn: 1.0746204\ttotal: 5m 38s\tremaining: 2m 4s\n",
      "731:\tlearn: 1.0742235\ttotal: 5m 38s\tremaining: 2m 4s\n",
      "732:\tlearn: 1.0735887\ttotal: 5m 39s\tremaining: 2m 3s\n",
      "733:\tlearn: 1.0726080\ttotal: 5m 39s\tremaining: 2m 3s\n",
      "734:\tlearn: 1.0716215\ttotal: 5m 40s\tremaining: 2m 2s\n",
      "735:\tlearn: 1.0712493\ttotal: 5m 40s\tremaining: 2m 2s\n",
      "736:\tlearn: 1.0708530\ttotal: 5m 41s\tremaining: 2m 1s\n",
      "737:\tlearn: 1.0703854\ttotal: 5m 41s\tremaining: 2m 1s\n",
      "738:\tlearn: 1.0692106\ttotal: 5m 42s\tremaining: 2m\n",
      "739:\tlearn: 1.0689399\ttotal: 5m 42s\tremaining: 2m\n",
      "740:\tlearn: 1.0686466\ttotal: 5m 42s\tremaining: 1m 59s\n",
      "741:\tlearn: 1.0678006\ttotal: 5m 43s\tremaining: 1m 59s\n",
      "742:\tlearn: 1.0675372\ttotal: 5m 43s\tremaining: 1m 58s\n",
      "743:\tlearn: 1.0671175\ttotal: 5m 44s\tremaining: 1m 58s\n",
      "744:\tlearn: 1.0662085\ttotal: 5m 44s\tremaining: 1m 57s\n",
      "745:\tlearn: 1.0661049\ttotal: 5m 44s\tremaining: 1m 57s\n",
      "746:\tlearn: 1.0656135\ttotal: 5m 45s\tremaining: 1m 56s\n",
      "747:\tlearn: 1.0654365\ttotal: 5m 45s\tremaining: 1m 56s\n",
      "748:\tlearn: 1.0646529\ttotal: 5m 46s\tremaining: 1m 56s\n",
      "749:\tlearn: 1.0642092\ttotal: 5m 46s\tremaining: 1m 55s\n",
      "750:\tlearn: 1.0634937\ttotal: 5m 47s\tremaining: 1m 55s\n",
      "751:\tlearn: 1.0625014\ttotal: 5m 47s\tremaining: 1m 54s\n",
      "752:\tlearn: 1.0617885\ttotal: 5m 48s\tremaining: 1m 54s\n",
      "753:\tlearn: 1.0608289\ttotal: 5m 48s\tremaining: 1m 53s\n",
      "754:\tlearn: 1.0597947\ttotal: 5m 49s\tremaining: 1m 53s\n",
      "755:\tlearn: 1.0594635\ttotal: 5m 49s\tremaining: 1m 52s\n",
      "756:\tlearn: 1.0589747\ttotal: 5m 49s\tremaining: 1m 52s\n",
      "757:\tlearn: 1.0585493\ttotal: 5m 50s\tremaining: 1m 51s\n",
      "758:\tlearn: 1.0582853\ttotal: 5m 50s\tremaining: 1m 51s\n",
      "759:\tlearn: 1.0577321\ttotal: 5m 51s\tremaining: 1m 50s\n",
      "760:\tlearn: 1.0566484\ttotal: 5m 51s\tremaining: 1m 50s\n",
      "761:\tlearn: 1.0559657\ttotal: 5m 52s\tremaining: 1m 50s\n",
      "762:\tlearn: 1.0552209\ttotal: 5m 52s\tremaining: 1m 49s\n",
      "763:\tlearn: 1.0549329\ttotal: 5m 53s\tremaining: 1m 49s\n",
      "764:\tlearn: 1.0543279\ttotal: 5m 53s\tremaining: 1m 48s\n",
      "765:\tlearn: 1.0532834\ttotal: 5m 54s\tremaining: 1m 48s\n",
      "766:\tlearn: 1.0529514\ttotal: 5m 54s\tremaining: 1m 47s\n",
      "767:\tlearn: 1.0520827\ttotal: 5m 55s\tremaining: 1m 47s\n",
      "768:\tlearn: 1.0515351\ttotal: 5m 55s\tremaining: 1m 46s\n",
      "769:\tlearn: 1.0506749\ttotal: 5m 56s\tremaining: 1m 46s\n",
      "770:\tlearn: 1.0498129\ttotal: 5m 56s\tremaining: 1m 45s\n",
      "771:\tlearn: 1.0487600\ttotal: 5m 57s\tremaining: 1m 45s\n",
      "772:\tlearn: 1.0482409\ttotal: 5m 57s\tremaining: 1m 44s\n",
      "773:\tlearn: 1.0481164\ttotal: 5m 57s\tremaining: 1m 44s\n",
      "774:\tlearn: 1.0474392\ttotal: 5m 58s\tremaining: 1m 44s\n",
      "775:\tlearn: 1.0472476\ttotal: 5m 58s\tremaining: 1m 43s\n",
      "776:\tlearn: 1.0463887\ttotal: 5m 59s\tremaining: 1m 43s\n",
      "777:\tlearn: 1.0460452\ttotal: 5m 59s\tremaining: 1m 42s\n",
      "778:\tlearn: 1.0452029\ttotal: 6m\tremaining: 1m 42s\n",
      "779:\tlearn: 1.0444459\ttotal: 6m\tremaining: 1m 41s\n",
      "780:\tlearn: 1.0440596\ttotal: 6m\tremaining: 1m 41s\n",
      "781:\tlearn: 1.0437189\ttotal: 6m 1s\tremaining: 1m 40s\n",
      "782:\tlearn: 1.0434176\ttotal: 6m 1s\tremaining: 1m 40s\n",
      "783:\tlearn: 1.0427950\ttotal: 6m 2s\tremaining: 1m 39s\n",
      "784:\tlearn: 1.0422001\ttotal: 6m 2s\tremaining: 1m 39s\n",
      "785:\tlearn: 1.0415681\ttotal: 6m 3s\tremaining: 1m 38s\n",
      "786:\tlearn: 1.0406327\ttotal: 6m 3s\tremaining: 1m 38s\n",
      "787:\tlearn: 1.0398533\ttotal: 6m 3s\tremaining: 1m 37s\n",
      "788:\tlearn: 1.0393209\ttotal: 6m 4s\tremaining: 1m 37s\n",
      "789:\tlearn: 1.0384448\ttotal: 6m 4s\tremaining: 1m 36s\n",
      "790:\tlearn: 1.0371563\ttotal: 6m 5s\tremaining: 1m 36s\n",
      "791:\tlearn: 1.0367034\ttotal: 6m 5s\tremaining: 1m 36s\n",
      "792:\tlearn: 1.0358649\ttotal: 6m 6s\tremaining: 1m 35s\n",
      "793:\tlearn: 1.0352360\ttotal: 6m 6s\tremaining: 1m 35s\n",
      "794:\tlearn: 1.0346007\ttotal: 6m 6s\tremaining: 1m 34s\n",
      "795:\tlearn: 1.0340074\ttotal: 6m 7s\tremaining: 1m 34s\n",
      "796:\tlearn: 1.0331595\ttotal: 6m 7s\tremaining: 1m 33s\n",
      "797:\tlearn: 1.0326145\ttotal: 6m 8s\tremaining: 1m 33s\n",
      "798:\tlearn: 1.0323544\ttotal: 6m 8s\tremaining: 1m 32s\n",
      "799:\tlearn: 1.0317199\ttotal: 6m 9s\tremaining: 1m 32s\n",
      "800:\tlearn: 1.0312486\ttotal: 6m 9s\tremaining: 1m 31s\n",
      "801:\tlearn: 1.0303979\ttotal: 6m 10s\tremaining: 1m 31s\n",
      "802:\tlearn: 1.0300281\ttotal: 6m 10s\tremaining: 1m 30s\n",
      "803:\tlearn: 1.0292215\ttotal: 6m 10s\tremaining: 1m 30s\n",
      "804:\tlearn: 1.0283912\ttotal: 6m 11s\tremaining: 1m 29s\n",
      "805:\tlearn: 1.0272967\ttotal: 6m 11s\tremaining: 1m 29s\n",
      "806:\tlearn: 1.0266435\ttotal: 6m 12s\tremaining: 1m 29s\n",
      "807:\tlearn: 1.0258671\ttotal: 6m 12s\tremaining: 1m 28s\n",
      "808:\tlearn: 1.0251245\ttotal: 6m 13s\tremaining: 1m 28s\n",
      "809:\tlearn: 1.0248435\ttotal: 6m 13s\tremaining: 1m 27s\n",
      "810:\tlearn: 1.0244473\ttotal: 6m 13s\tremaining: 1m 27s\n",
      "811:\tlearn: 1.0239688\ttotal: 6m 14s\tremaining: 1m 26s\n",
      "812:\tlearn: 1.0239037\ttotal: 6m 14s\tremaining: 1m 26s\n",
      "813:\tlearn: 1.0233054\ttotal: 6m 15s\tremaining: 1m 25s\n",
      "814:\tlearn: 1.0226134\ttotal: 6m 15s\tremaining: 1m 25s\n",
      "815:\tlearn: 1.0219406\ttotal: 6m 16s\tremaining: 1m 24s\n",
      "816:\tlearn: 1.0216337\ttotal: 6m 16s\tremaining: 1m 24s\n",
      "817:\tlearn: 1.0213485\ttotal: 6m 16s\tremaining: 1m 23s\n",
      "818:\tlearn: 1.0204734\ttotal: 6m 17s\tremaining: 1m 23s\n",
      "819:\tlearn: 1.0203514\ttotal: 6m 17s\tremaining: 1m 22s\n",
      "820:\tlearn: 1.0196444\ttotal: 6m 18s\tremaining: 1m 22s\n",
      "821:\tlearn: 1.0193212\ttotal: 6m 18s\tremaining: 1m 21s\n",
      "822:\tlearn: 1.0190805\ttotal: 6m 18s\tremaining: 1m 21s\n",
      "823:\tlearn: 1.0187874\ttotal: 6m 19s\tremaining: 1m 21s\n",
      "824:\tlearn: 1.0181185\ttotal: 6m 19s\tremaining: 1m 20s\n",
      "825:\tlearn: 1.0171373\ttotal: 6m 20s\tremaining: 1m 20s\n",
      "826:\tlearn: 1.0164797\ttotal: 6m 20s\tremaining: 1m 19s\n",
      "827:\tlearn: 1.0157770\ttotal: 6m 21s\tremaining: 1m 19s\n",
      "828:\tlearn: 1.0155361\ttotal: 6m 21s\tremaining: 1m 18s\n",
      "829:\tlearn: 1.0145622\ttotal: 6m 21s\tremaining: 1m 18s\n",
      "830:\tlearn: 1.0140596\ttotal: 6m 22s\tremaining: 1m 17s\n",
      "831:\tlearn: 1.0134994\ttotal: 6m 22s\tremaining: 1m 17s\n",
      "832:\tlearn: 1.0128311\ttotal: 6m 23s\tremaining: 1m 16s\n",
      "833:\tlearn: 1.0117524\ttotal: 6m 23s\tremaining: 1m 16s\n",
      "834:\tlearn: 1.0112094\ttotal: 6m 24s\tremaining: 1m 15s\n",
      "835:\tlearn: 1.0105646\ttotal: 6m 24s\tremaining: 1m 15s\n",
      "836:\tlearn: 1.0100411\ttotal: 6m 24s\tremaining: 1m 14s\n",
      "837:\tlearn: 1.0093302\ttotal: 6m 25s\tremaining: 1m 14s\n",
      "838:\tlearn: 1.0085280\ttotal: 6m 25s\tremaining: 1m 14s\n",
      "839:\tlearn: 1.0082832\ttotal: 6m 26s\tremaining: 1m 13s\n",
      "840:\tlearn: 1.0077691\ttotal: 6m 26s\tremaining: 1m 13s\n",
      "841:\tlearn: 1.0068753\ttotal: 6m 27s\tremaining: 1m 12s\n",
      "842:\tlearn: 1.0061146\ttotal: 6m 27s\tremaining: 1m 12s\n",
      "843:\tlearn: 1.0055512\ttotal: 6m 27s\tremaining: 1m 11s\n",
      "844:\tlearn: 1.0045880\ttotal: 6m 28s\tremaining: 1m 11s\n",
      "845:\tlearn: 1.0034301\ttotal: 6m 28s\tremaining: 1m 10s\n",
      "846:\tlearn: 1.0027575\ttotal: 6m 29s\tremaining: 1m 10s\n",
      "847:\tlearn: 1.0025459\ttotal: 6m 29s\tremaining: 1m 9s\n",
      "848:\tlearn: 1.0023024\ttotal: 6m 30s\tremaining: 1m 9s\n",
      "849:\tlearn: 1.0018692\ttotal: 6m 30s\tremaining: 1m 8s\n",
      "850:\tlearn: 1.0016949\ttotal: 6m 30s\tremaining: 1m 8s\n",
      "851:\tlearn: 1.0014553\ttotal: 6m 31s\tremaining: 1m 7s\n",
      "852:\tlearn: 1.0008167\ttotal: 6m 31s\tremaining: 1m 7s\n",
      "853:\tlearn: 1.0005856\ttotal: 6m 32s\tremaining: 1m 7s\n",
      "854:\tlearn: 1.0004626\ttotal: 6m 32s\tremaining: 1m 6s\n",
      "855:\tlearn: 1.0001156\ttotal: 6m 33s\tremaining: 1m 6s\n",
      "856:\tlearn: 1.0000191\ttotal: 6m 33s\tremaining: 1m 5s\n",
      "857:\tlearn: 0.9992405\ttotal: 6m 33s\tremaining: 1m 5s\n",
      "858:\tlearn: 0.9986497\ttotal: 6m 34s\tremaining: 1m 4s\n",
      "859:\tlearn: 0.9976679\ttotal: 6m 34s\tremaining: 1m 4s\n",
      "860:\tlearn: 0.9972301\ttotal: 6m 35s\tremaining: 1m 3s\n",
      "861:\tlearn: 0.9964817\ttotal: 6m 35s\tremaining: 1m 3s\n",
      "862:\tlearn: 0.9963645\ttotal: 6m 36s\tremaining: 1m 2s\n",
      "863:\tlearn: 0.9962197\ttotal: 6m 36s\tremaining: 1m 2s\n",
      "864:\tlearn: 0.9957072\ttotal: 6m 37s\tremaining: 1m 1s\n",
      "865:\tlearn: 0.9951211\ttotal: 6m 37s\tremaining: 1m 1s\n",
      "866:\tlearn: 0.9947160\ttotal: 6m 38s\tremaining: 1m 1s\n",
      "867:\tlearn: 0.9937692\ttotal: 6m 38s\tremaining: 1m\n",
      "868:\tlearn: 0.9933762\ttotal: 6m 38s\tremaining: 1m\n",
      "869:\tlearn: 0.9926853\ttotal: 6m 39s\tremaining: 59.7s\n",
      "870:\tlearn: 0.9917841\ttotal: 6m 39s\tremaining: 59.2s\n",
      "871:\tlearn: 0.9914770\ttotal: 6m 40s\tremaining: 58.8s\n",
      "872:\tlearn: 0.9910821\ttotal: 6m 40s\tremaining: 58.3s\n",
      "873:\tlearn: 0.9903313\ttotal: 6m 41s\tremaining: 57.8s\n",
      "874:\tlearn: 0.9893752\ttotal: 6m 41s\tremaining: 57.4s\n",
      "875:\tlearn: 0.9885036\ttotal: 6m 42s\tremaining: 56.9s\n",
      "876:\tlearn: 0.9879096\ttotal: 6m 42s\tremaining: 56.5s\n",
      "877:\tlearn: 0.9873171\ttotal: 6m 43s\tremaining: 56s\n",
      "878:\tlearn: 0.9869196\ttotal: 6m 43s\tremaining: 55.6s\n",
      "879:\tlearn: 0.9864225\ttotal: 6m 44s\tremaining: 55.1s\n",
      "880:\tlearn: 0.9856692\ttotal: 6m 44s\tremaining: 54.6s\n",
      "881:\tlearn: 0.9853053\ttotal: 6m 44s\tremaining: 54.2s\n",
      "882:\tlearn: 0.9845436\ttotal: 6m 45s\tremaining: 53.7s\n",
      "883:\tlearn: 0.9837799\ttotal: 6m 45s\tremaining: 53.3s\n",
      "884:\tlearn: 0.9828810\ttotal: 6m 46s\tremaining: 52.8s\n",
      "885:\tlearn: 0.9826435\ttotal: 6m 46s\tremaining: 52.3s\n",
      "886:\tlearn: 0.9823775\ttotal: 6m 47s\tremaining: 51.9s\n",
      "887:\tlearn: 0.9819671\ttotal: 6m 47s\tremaining: 51.4s\n",
      "888:\tlearn: 0.9816147\ttotal: 6m 48s\tremaining: 51s\n",
      "889:\tlearn: 0.9814132\ttotal: 6m 48s\tremaining: 50.5s\n",
      "890:\tlearn: 0.9812502\ttotal: 6m 49s\tremaining: 50s\n",
      "891:\tlearn: 0.9804036\ttotal: 6m 49s\tremaining: 49.6s\n",
      "892:\tlearn: 0.9798233\ttotal: 6m 49s\tremaining: 49.1s\n",
      "893:\tlearn: 0.9796055\ttotal: 6m 50s\tremaining: 48.7s\n",
      "894:\tlearn: 0.9788191\ttotal: 6m 50s\tremaining: 48.2s\n",
      "895:\tlearn: 0.9780168\ttotal: 6m 51s\tremaining: 47.7s\n",
      "896:\tlearn: 0.9774092\ttotal: 6m 51s\tremaining: 47.3s\n",
      "897:\tlearn: 0.9765326\ttotal: 6m 52s\tremaining: 46.8s\n",
      "898:\tlearn: 0.9762183\ttotal: 6m 52s\tremaining: 46.4s\n",
      "899:\tlearn: 0.9758770\ttotal: 6m 53s\tremaining: 45.9s\n",
      "900:\tlearn: 0.9758520\ttotal: 6m 53s\tremaining: 45.4s\n",
      "901:\tlearn: 0.9753510\ttotal: 6m 53s\tremaining: 45s\n",
      "902:\tlearn: 0.9747500\ttotal: 6m 54s\tremaining: 44.5s\n",
      "903:\tlearn: 0.9742332\ttotal: 6m 54s\tremaining: 44.1s\n",
      "904:\tlearn: 0.9738505\ttotal: 6m 55s\tremaining: 43.6s\n",
      "905:\tlearn: 0.9736077\ttotal: 6m 55s\tremaining: 43.1s\n",
      "906:\tlearn: 0.9733944\ttotal: 6m 56s\tremaining: 42.7s\n",
      "907:\tlearn: 0.9727331\ttotal: 6m 56s\tremaining: 42.2s\n",
      "908:\tlearn: 0.9724517\ttotal: 6m 57s\tremaining: 41.8s\n",
      "909:\tlearn: 0.9719874\ttotal: 6m 57s\tremaining: 41.3s\n",
      "910:\tlearn: 0.9718486\ttotal: 6m 58s\tremaining: 40.8s\n",
      "911:\tlearn: 0.9711302\ttotal: 6m 58s\tremaining: 40.4s\n",
      "912:\tlearn: 0.9708725\ttotal: 6m 59s\tremaining: 39.9s\n",
      "913:\tlearn: 0.9703583\ttotal: 6m 59s\tremaining: 39.5s\n",
      "914:\tlearn: 0.9698996\ttotal: 6m 59s\tremaining: 39s\n",
      "915:\tlearn: 0.9691412\ttotal: 7m\tremaining: 38.6s\n",
      "916:\tlearn: 0.9688567\ttotal: 7m\tremaining: 38.1s\n",
      "917:\tlearn: 0.9681774\ttotal: 7m 1s\tremaining: 37.6s\n",
      "918:\tlearn: 0.9678312\ttotal: 7m 1s\tremaining: 37.2s\n",
      "919:\tlearn: 0.9676071\ttotal: 7m 2s\tremaining: 36.7s\n",
      "920:\tlearn: 0.9673580\ttotal: 7m 2s\tremaining: 36.3s\n",
      "921:\tlearn: 0.9667712\ttotal: 7m 3s\tremaining: 35.8s\n",
      "922:\tlearn: 0.9662248\ttotal: 7m 3s\tremaining: 35.3s\n",
      "923:\tlearn: 0.9654697\ttotal: 7m 4s\tremaining: 34.9s\n",
      "924:\tlearn: 0.9647712\ttotal: 7m 4s\tremaining: 34.4s\n",
      "925:\tlearn: 0.9643879\ttotal: 7m 4s\tremaining: 34s\n",
      "926:\tlearn: 0.9637085\ttotal: 7m 5s\tremaining: 33.5s\n",
      "927:\tlearn: 0.9632583\ttotal: 7m 5s\tremaining: 33s\n",
      "928:\tlearn: 0.9630407\ttotal: 7m 6s\tremaining: 32.6s\n",
      "929:\tlearn: 0.9626560\ttotal: 7m 6s\tremaining: 32.1s\n",
      "930:\tlearn: 0.9623101\ttotal: 7m 7s\tremaining: 31.7s\n",
      "931:\tlearn: 0.9620485\ttotal: 7m 7s\tremaining: 31.2s\n",
      "932:\tlearn: 0.9616006\ttotal: 7m 8s\tremaining: 30.7s\n",
      "933:\tlearn: 0.9610934\ttotal: 7m 8s\tremaining: 30.3s\n",
      "934:\tlearn: 0.9605789\ttotal: 7m 8s\tremaining: 29.8s\n",
      "935:\tlearn: 0.9599246\ttotal: 7m 9s\tremaining: 29.4s\n",
      "936:\tlearn: 0.9591355\ttotal: 7m 9s\tremaining: 28.9s\n",
      "937:\tlearn: 0.9588703\ttotal: 7m 10s\tremaining: 28.4s\n",
      "938:\tlearn: 0.9585357\ttotal: 7m 10s\tremaining: 28s\n",
      "939:\tlearn: 0.9581836\ttotal: 7m 11s\tremaining: 27.5s\n",
      "940:\tlearn: 0.9577251\ttotal: 7m 11s\tremaining: 27.1s\n",
      "941:\tlearn: 0.9576695\ttotal: 7m 12s\tremaining: 26.6s\n",
      "942:\tlearn: 0.9572469\ttotal: 7m 12s\tremaining: 26.1s\n",
      "943:\tlearn: 0.9566492\ttotal: 7m 12s\tremaining: 25.7s\n",
      "944:\tlearn: 0.9559661\ttotal: 7m 13s\tremaining: 25.2s\n",
      "945:\tlearn: 0.9551911\ttotal: 7m 13s\tremaining: 24.8s\n",
      "946:\tlearn: 0.9546584\ttotal: 7m 14s\tremaining: 24.3s\n",
      "947:\tlearn: 0.9538570\ttotal: 7m 14s\tremaining: 23.9s\n",
      "948:\tlearn: 0.9534982\ttotal: 7m 15s\tremaining: 23.4s\n",
      "949:\tlearn: 0.9532056\ttotal: 7m 15s\tremaining: 22.9s\n",
      "950:\tlearn: 0.9528480\ttotal: 7m 16s\tremaining: 22.5s\n",
      "951:\tlearn: 0.9519713\ttotal: 7m 16s\tremaining: 22s\n",
      "952:\tlearn: 0.9514218\ttotal: 7m 17s\tremaining: 21.6s\n",
      "953:\tlearn: 0.9512170\ttotal: 7m 17s\tremaining: 21.1s\n",
      "954:\tlearn: 0.9508007\ttotal: 7m 18s\tremaining: 20.6s\n",
      "955:\tlearn: 0.9504671\ttotal: 7m 18s\tremaining: 20.2s\n",
      "956:\tlearn: 0.9496639\ttotal: 7m 18s\tremaining: 19.7s\n",
      "957:\tlearn: 0.9494334\ttotal: 7m 19s\tremaining: 19.3s\n",
      "958:\tlearn: 0.9491957\ttotal: 7m 19s\tremaining: 18.8s\n",
      "959:\tlearn: 0.9489095\ttotal: 7m 20s\tremaining: 18.3s\n",
      "960:\tlearn: 0.9485301\ttotal: 7m 20s\tremaining: 17.9s\n",
      "961:\tlearn: 0.9476997\ttotal: 7m 21s\tremaining: 17.4s\n",
      "962:\tlearn: 0.9475722\ttotal: 7m 21s\tremaining: 17s\n",
      "963:\tlearn: 0.9468861\ttotal: 7m 22s\tremaining: 16.5s\n",
      "964:\tlearn: 0.9461881\ttotal: 7m 22s\tremaining: 16.1s\n",
      "965:\tlearn: 0.9461343\ttotal: 7m 23s\tremaining: 15.6s\n",
      "966:\tlearn: 0.9458698\ttotal: 7m 23s\tremaining: 15.1s\n",
      "967:\tlearn: 0.9456178\ttotal: 7m 23s\tremaining: 14.7s\n",
      "968:\tlearn: 0.9451287\ttotal: 7m 24s\tremaining: 14.2s\n",
      "969:\tlearn: 0.9446902\ttotal: 7m 24s\tremaining: 13.8s\n",
      "970:\tlearn: 0.9441861\ttotal: 7m 25s\tremaining: 13.3s\n",
      "971:\tlearn: 0.9438896\ttotal: 7m 25s\tremaining: 12.8s\n",
      "972:\tlearn: 0.9435500\ttotal: 7m 26s\tremaining: 12.4s\n",
      "973:\tlearn: 0.9429745\ttotal: 7m 26s\tremaining: 11.9s\n",
      "974:\tlearn: 0.9424236\ttotal: 7m 27s\tremaining: 11.5s\n",
      "975:\tlearn: 0.9421080\ttotal: 7m 27s\tremaining: 11s\n",
      "976:\tlearn: 0.9416268\ttotal: 7m 28s\tremaining: 10.5s\n",
      "977:\tlearn: 0.9412245\ttotal: 7m 28s\tremaining: 10.1s\n",
      "978:\tlearn: 0.9410543\ttotal: 7m 28s\tremaining: 9.63s\n",
      "979:\tlearn: 0.9402298\ttotal: 7m 29s\tremaining: 9.17s\n",
      "980:\tlearn: 0.9396966\ttotal: 7m 29s\tremaining: 8.71s\n",
      "981:\tlearn: 0.9393387\ttotal: 7m 30s\tremaining: 8.25s\n",
      "982:\tlearn: 0.9388849\ttotal: 7m 30s\tremaining: 7.8s\n",
      "983:\tlearn: 0.9386399\ttotal: 7m 31s\tremaining: 7.34s\n",
      "984:\tlearn: 0.9377288\ttotal: 7m 31s\tremaining: 6.88s\n",
      "985:\tlearn: 0.9370755\ttotal: 7m 32s\tremaining: 6.42s\n",
      "986:\tlearn: 0.9366103\ttotal: 7m 32s\tremaining: 5.96s\n",
      "987:\tlearn: 0.9362085\ttotal: 7m 33s\tremaining: 5.5s\n",
      "988:\tlearn: 0.9358069\ttotal: 7m 33s\tremaining: 5.04s\n",
      "989:\tlearn: 0.9355503\ttotal: 7m 33s\tremaining: 4.58s\n",
      "990:\tlearn: 0.9351743\ttotal: 7m 34s\tremaining: 4.13s\n",
      "991:\tlearn: 0.9346050\ttotal: 7m 34s\tremaining: 3.67s\n",
      "992:\tlearn: 0.9339169\ttotal: 7m 35s\tremaining: 3.21s\n",
      "993:\tlearn: 0.9336604\ttotal: 7m 35s\tremaining: 2.75s\n",
      "994:\tlearn: 0.9333048\ttotal: 7m 36s\tremaining: 2.29s\n",
      "995:\tlearn: 0.9330169\ttotal: 7m 36s\tremaining: 1.83s\n",
      "996:\tlearn: 0.9325308\ttotal: 7m 37s\tremaining: 1.38s\n",
      "997:\tlearn: 0.9320911\ttotal: 7m 37s\tremaining: 917ms\n",
      "998:\tlearn: 0.9315067\ttotal: 7m 37s\tremaining: 458ms\n",
      "999:\tlearn: 0.9312044\ttotal: 7m 38s\tremaining: 0us\n"
     ]
    },
    {
     "data": {
      "text/plain": "<catboost.core.CatBoostClassifier at 0x7f0287ce3130>"
     },
     "execution_count": 53,
     "metadata": {},
     "output_type": "execute_result"
    }
   ],
   "source": [
    "classifier = CatBoostClassifier()\n",
    "classifier.fit(X, y, categorical_features_indices)"
   ],
   "metadata": {
    "collapsed": false,
    "pycharm": {
     "name": "#%%\n"
    }
   }
  },
  {
   "cell_type": "code",
   "execution_count": 57,
   "outputs": [
    {
     "data": {
      "text/plain": "     feature_importance                  feature_names\n0              8.367301                       scout_id\n3              5.096853                  competitionId\n1              1.447305                         winner\n6              0.964862                  player_height\n199            0.956541  player_positional_raw_var_185\n..                  ...                            ...\n703            0.000000         team2_other_raw_var_72\n43             0.000000        player_other_raw_var_29\n186            0.000000       player_other_raw_var_172\n290            0.000000  player_offensive_ratio_var_77\n643            0.000000     team2_defensive_raw_var_12\n\n[798 rows x 2 columns]",
      "text/html": "<div>\n<style scoped>\n    .dataframe tbody tr th:only-of-type {\n        vertical-align: middle;\n    }\n\n    .dataframe tbody tr th {\n        vertical-align: top;\n    }\n\n    .dataframe thead th {\n        text-align: right;\n    }\n</style>\n<table border=\"1\" class=\"dataframe\">\n  <thead>\n    <tr style=\"text-align: right;\">\n      <th></th>\n      <th>feature_importance</th>\n      <th>feature_names</th>\n    </tr>\n  </thead>\n  <tbody>\n    <tr>\n      <th>0</th>\n      <td>8.367301</td>\n      <td>scout_id</td>\n    </tr>\n    <tr>\n      <th>3</th>\n      <td>5.096853</td>\n      <td>competitionId</td>\n    </tr>\n    <tr>\n      <th>1</th>\n      <td>1.447305</td>\n      <td>winner</td>\n    </tr>\n    <tr>\n      <th>6</th>\n      <td>0.964862</td>\n      <td>player_height</td>\n    </tr>\n    <tr>\n      <th>199</th>\n      <td>0.956541</td>\n      <td>player_positional_raw_var_185</td>\n    </tr>\n    <tr>\n      <th>...</th>\n      <td>...</td>\n      <td>...</td>\n    </tr>\n    <tr>\n      <th>703</th>\n      <td>0.000000</td>\n      <td>team2_other_raw_var_72</td>\n    </tr>\n    <tr>\n      <th>43</th>\n      <td>0.000000</td>\n      <td>player_other_raw_var_29</td>\n    </tr>\n    <tr>\n      <th>186</th>\n      <td>0.000000</td>\n      <td>player_other_raw_var_172</td>\n    </tr>\n    <tr>\n      <th>290</th>\n      <td>0.000000</td>\n      <td>player_offensive_ratio_var_77</td>\n    </tr>\n    <tr>\n      <th>643</th>\n      <td>0.000000</td>\n      <td>team2_defensive_raw_var_12</td>\n    </tr>\n  </tbody>\n</table>\n<p>798 rows × 2 columns</p>\n</div>"
     },
     "execution_count": 57,
     "metadata": {},
     "output_type": "execute_result"
    }
   ],
   "source": [
    "pd.DataFrame({'feature_importance': classifier.get_feature_importance(),\n",
    "              'feature_names': X.columns}).sort_values(by=['feature_importance'],\n",
    "                                                           ascending=False)"
   ],
   "metadata": {
    "collapsed": false,
    "pycharm": {
     "name": "#%%\n"
    }
   }
  },
  {
   "cell_type": "code",
   "execution_count": 67,
   "outputs": [],
   "source": [
    "row_id_test = test.data['row_id']\n",
    "test_data = test.data"
   ],
   "metadata": {
    "collapsed": false,
    "pycharm": {
     "name": "#%%\n"
    }
   }
  },
  {
   "cell_type": "code",
   "execution_count": 69,
   "outputs": [],
   "source": [
    "test_data = test_data.fillna(0)"
   ],
   "metadata": {
    "collapsed": false,
    "pycharm": {
     "name": "#%%\n"
    }
   }
  },
  {
   "cell_type": "code",
   "execution_count": 70,
   "outputs": [],
   "source": [
    "for col in test_data.columns:\n",
    "    if col in categorical_features:\n",
    "        if test_data[col].dtype != 'object':\n",
    "            test_data[col] = test_data[col].astype(\"int\")"
   ],
   "metadata": {
    "collapsed": false,
    "pycharm": {
     "name": "#%%\n"
    }
   }
  },
  {
   "cell_type": "code",
   "execution_count": 81,
   "outputs": [],
   "source": [
    "classifier_predicts = classifier.predict(test_data)"
   ],
   "metadata": {
    "collapsed": false,
    "pycharm": {
     "name": "#%%\n"
    }
   }
  },
  {
   "cell_type": "code",
   "execution_count": 74,
   "outputs": [],
   "source": [
    "pd.DataFrame(predicts, row_id_test, columns=[\"rating_num\"]).to_csv(\"../submissions/catboost_init.csv\")"
   ],
   "metadata": {
    "collapsed": false,
    "pycharm": {
     "name": "#%%\n"
    }
   }
  },
  {
   "cell_type": "code",
   "execution_count": null,
   "outputs": [],
   "source": [],
   "metadata": {
    "collapsed": false,
    "pycharm": {
     "name": "#%%\n"
    }
   }
  },
  {
   "cell_type": "code",
   "execution_count": 76,
   "outputs": [
    {
     "name": "stdout",
     "output_type": "stream",
     "text": [
      "Learning rate set to 0.06596\n",
      "0:\tlearn: 1.8423747\ttotal: 69.7ms\tremaining: 1m 9s\n",
      "999:\tlearn: 1.1028166\ttotal: 39.1s\tremaining: 0us\n"
     ]
    },
    {
     "data": {
      "text/plain": "<catboost.core.CatBoostRegressor at 0x7f0289dcdcd0>"
     },
     "execution_count": 76,
     "metadata": {},
     "output_type": "execute_result"
    }
   ],
   "source": [
    "regressor = CatBoostRegressor()\n",
    "regressor.fit(X, y, categorical_features_indices, verbose=1000)"
   ],
   "metadata": {
    "collapsed": false,
    "pycharm": {
     "name": "#%%\n"
    }
   }
  },
  {
   "cell_type": "code",
   "execution_count": 92,
   "outputs": [],
   "source": [
    "regressor_predicts = regressor.predict(test_data)"
   ],
   "metadata": {
    "collapsed": false,
    "pycharm": {
     "name": "#%%\n"
    }
   }
  },
  {
   "cell_type": "code",
   "execution_count": 86,
   "outputs": [],
   "source": [
    "predicts = pd.DataFrame(regressor_predicts, row_id_test, columns=[\"regressor_predicts\"])\n",
    "predicts[\"classifier_predicts\"] = classifier_predicts"
   ],
   "metadata": {
    "collapsed": false,
    "pycharm": {
     "name": "#%%\n"
    }
   }
  },
  {
   "cell_type": "code",
   "execution_count": 95,
   "outputs": [
    {
     "data": {
      "text/plain": "        regressor_predicts  classifier_predicts\nrow_id                                         \n14785             6.925193                 10.0\n15125             5.151694                  3.0\n13095             5.969641                  5.0\n6079              6.002569                  5.0\n16584             6.387818                  6.5\n18508             5.700755                  6.0\n18731             5.867504                  6.0\n13610             7.398130                  7.5\n21768             4.029116                  6.5\n14463             5.866818                  6.5\n4031              7.375101                  8.0\n22418             6.525290                  7.5\n5288              6.648199                  7.5\n11744             5.909730                  6.5\n4123              6.176965                  6.5\n25449             7.037658                  6.0\n19207             7.468773                  8.0\n4488              6.345266                  6.0\n19810             5.642504                  6.0\n21238             7.148111                  6.5",
      "text/html": "<div>\n<style scoped>\n    .dataframe tbody tr th:only-of-type {\n        vertical-align: middle;\n    }\n\n    .dataframe tbody tr th {\n        vertical-align: top;\n    }\n\n    .dataframe thead th {\n        text-align: right;\n    }\n</style>\n<table border=\"1\" class=\"dataframe\">\n  <thead>\n    <tr style=\"text-align: right;\">\n      <th></th>\n      <th>regressor_predicts</th>\n      <th>classifier_predicts</th>\n    </tr>\n    <tr>\n      <th>row_id</th>\n      <th></th>\n      <th></th>\n    </tr>\n  </thead>\n  <tbody>\n    <tr>\n      <th>14785</th>\n      <td>6.925193</td>\n      <td>10.0</td>\n    </tr>\n    <tr>\n      <th>15125</th>\n      <td>5.151694</td>\n      <td>3.0</td>\n    </tr>\n    <tr>\n      <th>13095</th>\n      <td>5.969641</td>\n      <td>5.0</td>\n    </tr>\n    <tr>\n      <th>6079</th>\n      <td>6.002569</td>\n      <td>5.0</td>\n    </tr>\n    <tr>\n      <th>16584</th>\n      <td>6.387818</td>\n      <td>6.5</td>\n    </tr>\n    <tr>\n      <th>18508</th>\n      <td>5.700755</td>\n      <td>6.0</td>\n    </tr>\n    <tr>\n      <th>18731</th>\n      <td>5.867504</td>\n      <td>6.0</td>\n    </tr>\n    <tr>\n      <th>13610</th>\n      <td>7.398130</td>\n      <td>7.5</td>\n    </tr>\n    <tr>\n      <th>21768</th>\n      <td>4.029116</td>\n      <td>6.5</td>\n    </tr>\n    <tr>\n      <th>14463</th>\n      <td>5.866818</td>\n      <td>6.5</td>\n    </tr>\n    <tr>\n      <th>4031</th>\n      <td>7.375101</td>\n      <td>8.0</td>\n    </tr>\n    <tr>\n      <th>22418</th>\n      <td>6.525290</td>\n      <td>7.5</td>\n    </tr>\n    <tr>\n      <th>5288</th>\n      <td>6.648199</td>\n      <td>7.5</td>\n    </tr>\n    <tr>\n      <th>11744</th>\n      <td>5.909730</td>\n      <td>6.5</td>\n    </tr>\n    <tr>\n      <th>4123</th>\n      <td>6.176965</td>\n      <td>6.5</td>\n    </tr>\n    <tr>\n      <th>25449</th>\n      <td>7.037658</td>\n      <td>6.0</td>\n    </tr>\n    <tr>\n      <th>19207</th>\n      <td>7.468773</td>\n      <td>8.0</td>\n    </tr>\n    <tr>\n      <th>4488</th>\n      <td>6.345266</td>\n      <td>6.0</td>\n    </tr>\n    <tr>\n      <th>19810</th>\n      <td>5.642504</td>\n      <td>6.0</td>\n    </tr>\n    <tr>\n      <th>21238</th>\n      <td>7.148111</td>\n      <td>6.5</td>\n    </tr>\n  </tbody>\n</table>\n</div>"
     },
     "execution_count": 95,
     "metadata": {},
     "output_type": "execute_result"
    }
   ],
   "source": [
    "predicts.head(20)"
   ],
   "metadata": {
    "collapsed": false,
    "pycharm": {
     "name": "#%%\n"
    }
   }
  },
  {
   "cell_type": "code",
   "execution_count": 96,
   "outputs": [],
   "source": [
    "predicts[\"combined\"] = (predicts[\"regressor_predicts\"] + predicts[\"classifier_predicts\"]) / 2"
   ],
   "metadata": {
    "collapsed": false,
    "pycharm": {
     "name": "#%%\n"
    }
   }
  },
  {
   "cell_type": "code",
   "execution_count": 97,
   "outputs": [
    {
     "data": {
      "text/plain": "        regressor_predicts  classifier_predicts  combined\nrow_id                                                   \n14785             6.925193                 10.0  8.462596\n15125             5.151694                  3.0  4.075847\n13095             5.969641                  5.0  5.484821\n6079              6.002569                  5.0  5.501285\n16584             6.387818                  6.5  6.443909\n18508             5.700755                  6.0  5.850377\n18731             5.867504                  6.0  5.933752\n13610             7.398130                  7.5  7.449065\n21768             4.029116                  6.5  5.264558\n14463             5.866818                  6.5  6.183409\n4031              7.375101                  8.0  7.687551\n22418             6.525290                  7.5  7.012645\n5288              6.648199                  7.5  7.074099\n11744             5.909730                  6.5  6.204865\n4123              6.176965                  6.5  6.338483\n25449             7.037658                  6.0  6.518829\n19207             7.468773                  8.0  7.734387\n4488              6.345266                  6.0  6.172633\n19810             5.642504                  6.0  5.821252\n21238             7.148111                  6.5  6.824056",
      "text/html": "<div>\n<style scoped>\n    .dataframe tbody tr th:only-of-type {\n        vertical-align: middle;\n    }\n\n    .dataframe tbody tr th {\n        vertical-align: top;\n    }\n\n    .dataframe thead th {\n        text-align: right;\n    }\n</style>\n<table border=\"1\" class=\"dataframe\">\n  <thead>\n    <tr style=\"text-align: right;\">\n      <th></th>\n      <th>regressor_predicts</th>\n      <th>classifier_predicts</th>\n      <th>combined</th>\n    </tr>\n    <tr>\n      <th>row_id</th>\n      <th></th>\n      <th></th>\n      <th></th>\n    </tr>\n  </thead>\n  <tbody>\n    <tr>\n      <th>14785</th>\n      <td>6.925193</td>\n      <td>10.0</td>\n      <td>8.462596</td>\n    </tr>\n    <tr>\n      <th>15125</th>\n      <td>5.151694</td>\n      <td>3.0</td>\n      <td>4.075847</td>\n    </tr>\n    <tr>\n      <th>13095</th>\n      <td>5.969641</td>\n      <td>5.0</td>\n      <td>5.484821</td>\n    </tr>\n    <tr>\n      <th>6079</th>\n      <td>6.002569</td>\n      <td>5.0</td>\n      <td>5.501285</td>\n    </tr>\n    <tr>\n      <th>16584</th>\n      <td>6.387818</td>\n      <td>6.5</td>\n      <td>6.443909</td>\n    </tr>\n    <tr>\n      <th>18508</th>\n      <td>5.700755</td>\n      <td>6.0</td>\n      <td>5.850377</td>\n    </tr>\n    <tr>\n      <th>18731</th>\n      <td>5.867504</td>\n      <td>6.0</td>\n      <td>5.933752</td>\n    </tr>\n    <tr>\n      <th>13610</th>\n      <td>7.398130</td>\n      <td>7.5</td>\n      <td>7.449065</td>\n    </tr>\n    <tr>\n      <th>21768</th>\n      <td>4.029116</td>\n      <td>6.5</td>\n      <td>5.264558</td>\n    </tr>\n    <tr>\n      <th>14463</th>\n      <td>5.866818</td>\n      <td>6.5</td>\n      <td>6.183409</td>\n    </tr>\n    <tr>\n      <th>4031</th>\n      <td>7.375101</td>\n      <td>8.0</td>\n      <td>7.687551</td>\n    </tr>\n    <tr>\n      <th>22418</th>\n      <td>6.525290</td>\n      <td>7.5</td>\n      <td>7.012645</td>\n    </tr>\n    <tr>\n      <th>5288</th>\n      <td>6.648199</td>\n      <td>7.5</td>\n      <td>7.074099</td>\n    </tr>\n    <tr>\n      <th>11744</th>\n      <td>5.909730</td>\n      <td>6.5</td>\n      <td>6.204865</td>\n    </tr>\n    <tr>\n      <th>4123</th>\n      <td>6.176965</td>\n      <td>6.5</td>\n      <td>6.338483</td>\n    </tr>\n    <tr>\n      <th>25449</th>\n      <td>7.037658</td>\n      <td>6.0</td>\n      <td>6.518829</td>\n    </tr>\n    <tr>\n      <th>19207</th>\n      <td>7.468773</td>\n      <td>8.0</td>\n      <td>7.734387</td>\n    </tr>\n    <tr>\n      <th>4488</th>\n      <td>6.345266</td>\n      <td>6.0</td>\n      <td>6.172633</td>\n    </tr>\n    <tr>\n      <th>19810</th>\n      <td>5.642504</td>\n      <td>6.0</td>\n      <td>5.821252</td>\n    </tr>\n    <tr>\n      <th>21238</th>\n      <td>7.148111</td>\n      <td>6.5</td>\n      <td>6.824056</td>\n    </tr>\n  </tbody>\n</table>\n</div>"
     },
     "execution_count": 97,
     "metadata": {},
     "output_type": "execute_result"
    }
   ],
   "source": [
    "predicts.head(20)"
   ],
   "metadata": {
    "collapsed": false,
    "pycharm": {
     "name": "#%%\n"
    }
   }
  },
  {
   "cell_type": "code",
   "execution_count": 93,
   "outputs": [],
   "source": [
    "regressor_predicts_rounded = list(map(lambda x: 10 if x > 10 else round(x * 2) / 2, regressor_predicts))"
   ],
   "metadata": {
    "collapsed": false,
    "pycharm": {
     "name": "#%%\n"
    }
   }
  },
  {
   "cell_type": "code",
   "execution_count": 94,
   "outputs": [],
   "source": [
    "pd.DataFrame(regressor_predicts_rounded, row_id_test, columns=[\"rating_num\"]).to_csv(\"../submissions/catboost_init_regression_rounded.csv\")\n",
    "pd.DataFrame(regressor_predicts, row_id_test, columns=[\"rating_num\"]).to_csv(\"../submissions/catboost_init_regression.csv\")"
   ],
   "metadata": {
    "collapsed": false,
    "pycharm": {
     "name": "#%%\n"
    }
   }
  },
  {
   "cell_type": "code",
   "execution_count": 100,
   "outputs": [],
   "source": [
    "pd.DataFrame(predicts[\"combined\"].values, row_id_test, columns=[\"rating_num\"]).to_csv(\"../submissions/catboost_init_combined.csv\")"
   ],
   "metadata": {
    "collapsed": false,
    "pycharm": {
     "name": "#%%\n"
    }
   }
  },
  {
   "cell_type": "code",
   "execution_count": null,
   "outputs": [],
   "source": [],
   "metadata": {
    "collapsed": false,
    "pycharm": {
     "name": "#%%\n"
    }
   }
  },
  {
   "cell_type": "code",
   "execution_count": 101,
   "outputs": [],
   "source": [
    "grouped = pd.read_csv(\"../data/helpers/grouped.csv\")"
   ],
   "metadata": {
    "collapsed": false,
    "pycharm": {
     "name": "#%%\n"
    }
   }
  },
  {
   "cell_type": "code",
   "execution_count": 104,
   "outputs": [],
   "source": [
    "separated_groups = grouped.head(8)[[\"competitionId\", \"scout_id\"]]"
   ],
   "metadata": {
    "collapsed": false,
    "pycharm": {
     "name": "#%%\n"
    }
   }
  },
  {
   "cell_type": "code",
   "execution_count": 118,
   "outputs": [],
   "source": [
    "filtered_categorical_features = list(filter(lambda x: x not in [\"competitionId\", \"scout_id\"], categorical_features))\n",
    "\n",
    "separate_categorical_feature_indices = []\n",
    "for i, col in enumerate(X.drop([\"competitionId\", \"scout_id\"], axis=1).columns):\n",
    "    if col in filtered_categorical_features:\n",
    "        separate_categorical_feature_indices.append(i)"
   ],
   "metadata": {
    "collapsed": false,
    "pycharm": {
     "name": "#%%\n"
    }
   }
  },
  {
   "cell_type": "code",
   "execution_count": 121,
   "outputs": [],
   "source": [
    "test_data = test.data\n",
    "test_data = test_data.fillna(0)\n",
    "\n",
    "for col in test_data.columns:\n",
    "    if col in filtered_categorical_features:\n",
    "        if test_data[col].dtype != 'object':\n",
    "            test_data[col] = test_data[col].astype(\"int\")"
   ],
   "metadata": {
    "collapsed": false,
    "pycharm": {
     "name": "#%%\n"
    }
   }
  },
  {
   "cell_type": "code",
   "execution_count": 122,
   "outputs": [
    {
     "name": "stdout",
     "output_type": "stream",
     "text": [
      "Learning rate set to 0.04265\n",
      "0:\tlearn: 2.8958602\ttotal: 22.1ms\tremaining: 22.1s\n",
      "500:\tlearn: 0.7837229\ttotal: 12.7s\tremaining: 12.7s\n",
      "999:\tlearn: 0.3213546\ttotal: 24.7s\tremaining: 0us\n",
      "Learning rate set to 0.04076\n",
      "0:\tlearn: 2.1381576\ttotal: 20.4ms\tremaining: 20.4s\n",
      "500:\tlearn: 0.6006471\ttotal: 11s\tremaining: 11s\n",
      "999:\tlearn: 0.2138524\ttotal: 22s\tremaining: 0us\n",
      "Learning rate set to 0.040706\n",
      "0:\tlearn: 1.3465734\ttotal: 19.9ms\tremaining: 19.9s\n",
      "500:\tlearn: 0.2722709\ttotal: 10.1s\tremaining: 10.1s\n",
      "999:\tlearn: 0.0830441\ttotal: 20.2s\tremaining: 0us\n",
      "Learning rate set to 0.04066\n",
      "0:\tlearn: 1.1346233\ttotal: 21.1ms\tremaining: 21.1s\n",
      "500:\tlearn: 0.3403405\ttotal: 10.8s\tremaining: 10.8s\n",
      "999:\tlearn: 0.1150207\ttotal: 21.6s\tremaining: 0us\n",
      "Learning rate set to 0.03971\n",
      "0:\tlearn: 1.6651870\ttotal: 18.9ms\tremaining: 18.9s\n",
      "500:\tlearn: 0.4825198\ttotal: 10s\tremaining: 9.98s\n",
      "999:\tlearn: 0.1617400\ttotal: 19.9s\tremaining: 0us\n",
      "Learning rate set to 0.03971\n",
      "0:\tlearn: 1.5764335\ttotal: 22.7ms\tremaining: 22.7s\n",
      "500:\tlearn: 0.2829438\ttotal: 9.96s\tremaining: 9.92s\n",
      "999:\tlearn: 0.0952248\ttotal: 19.9s\tremaining: 0us\n",
      "Learning rate set to 0.039694\n",
      "0:\tlearn: 1.9655159\ttotal: 21ms\tremaining: 21s\n",
      "500:\tlearn: 0.4999263\ttotal: 10.2s\tremaining: 10.1s\n",
      "999:\tlearn: 0.1598549\ttotal: 20.2s\tremaining: 0us\n",
      "Learning rate set to 0.039493\n",
      "0:\tlearn: 1.6416343\ttotal: 18.8ms\tremaining: 18.8s\n",
      "500:\tlearn: 0.2727988\ttotal: 9.75s\tremaining: 9.71s\n",
      "999:\tlearn: 0.0857810\ttotal: 19.3s\tremaining: 0us\n"
     ]
    }
   ],
   "source": [
    "prepared_indices = []\n",
    "predicts_separated = []\n",
    "for competition_id, scout_id in separated_groups.values:\n",
    "    regressor_inner = CatBoostRegressor()\n",
    "    X_inner = X[(X[\"competitionId\"] == competition_id) & (X[\"scout_id\"] == scout_id)]\n",
    "    X_inner = X_inner.drop([\"competitionId\", \"scout_id\"], axis=1)\n",
    "    y_inner = y[X_inner.index]\n",
    "    regressor_inner.fit(X_inner, y_inner, separate_categorical_feature_indices, verbose=500)\n",
    "\n",
    "    test_data_inner = test_data[(test_data[\"competitionId\"] == competition_id) & (test_data[\"scout_id\"] == scout_id)]\n",
    "    test_data_inner = test_data_inner.drop([\"competitionId\", \"scout_id\"], axis=1)\n",
    "    row_id_test_inner = test_data_inner[\"row_id\"]\n",
    "    test_data_inner = test_data_inner.drop(\"row_id\", axis=1)\n",
    "    predicts_inner = regressor_inner.predict(test_data_inner)\n",
    "    predicts_separated += list(predicts_inner)\n",
    "    prepared_indices += list(row_id_test_inner.values)"
   ],
   "metadata": {
    "collapsed": false,
    "pycharm": {
     "name": "#%%\n"
    }
   }
  },
  {
   "cell_type": "code",
   "execution_count": 148,
   "outputs": [],
   "source": [
    "predicts_separated = pd.DataFrame(predicts_separated, prepared_indices, columns=[\"separated_predicts\"])"
   ],
   "metadata": {
    "collapsed": false,
    "pycharm": {
     "name": "#%%\n"
    }
   }
  },
  {
   "cell_type": "code",
   "execution_count": 153,
   "outputs": [
    {
     "data": {
      "text/plain": "(2680, 1)"
     },
     "execution_count": 153,
     "metadata": {},
     "output_type": "execute_result"
    }
   ],
   "source": [
    "predicts_separated.shape"
   ],
   "metadata": {
    "collapsed": false,
    "pycharm": {
     "name": "#%%\n"
    }
   }
  },
  {
   "cell_type": "code",
   "execution_count": 126,
   "outputs": [],
   "source": [
    "test_data_remain = test_data[~test_data.index.isin(prepared_indices)]"
   ],
   "metadata": {
    "collapsed": false,
    "pycharm": {
     "name": "#%%\n"
    }
   }
  },
  {
   "cell_type": "code",
   "execution_count": 127,
   "outputs": [],
   "source": [
    "test_data_remain_row_id = test_data_remain[\"row_id\"]"
   ],
   "metadata": {
    "collapsed": false,
    "pycharm": {
     "name": "#%%\n"
    }
   }
  },
  {
   "cell_type": "code",
   "execution_count": 128,
   "outputs": [
    {
     "data": {
      "text/plain": "        regressor_predicts  classifier_predicts  combined\nrow_id                                                   \n14785             6.925193                 10.0  8.462596\n15125             5.151694                  3.0  4.075847\n13095             5.969641                  5.0  5.484821\n6079              6.002569                  5.0  5.501285\n16584             6.387818                  6.5  6.443909",
      "text/html": "<div>\n<style scoped>\n    .dataframe tbody tr th:only-of-type {\n        vertical-align: middle;\n    }\n\n    .dataframe tbody tr th {\n        vertical-align: top;\n    }\n\n    .dataframe thead th {\n        text-align: right;\n    }\n</style>\n<table border=\"1\" class=\"dataframe\">\n  <thead>\n    <tr style=\"text-align: right;\">\n      <th></th>\n      <th>regressor_predicts</th>\n      <th>classifier_predicts</th>\n      <th>combined</th>\n    </tr>\n    <tr>\n      <th>row_id</th>\n      <th></th>\n      <th></th>\n      <th></th>\n    </tr>\n  </thead>\n  <tbody>\n    <tr>\n      <th>14785</th>\n      <td>6.925193</td>\n      <td>10.0</td>\n      <td>8.462596</td>\n    </tr>\n    <tr>\n      <th>15125</th>\n      <td>5.151694</td>\n      <td>3.0</td>\n      <td>4.075847</td>\n    </tr>\n    <tr>\n      <th>13095</th>\n      <td>5.969641</td>\n      <td>5.0</td>\n      <td>5.484821</td>\n    </tr>\n    <tr>\n      <th>6079</th>\n      <td>6.002569</td>\n      <td>5.0</td>\n      <td>5.501285</td>\n    </tr>\n    <tr>\n      <th>16584</th>\n      <td>6.387818</td>\n      <td>6.5</td>\n      <td>6.443909</td>\n    </tr>\n  </tbody>\n</table>\n</div>"
     },
     "execution_count": 128,
     "metadata": {},
     "output_type": "execute_result"
    }
   ],
   "source": [
    "predicts.head()"
   ],
   "metadata": {
    "collapsed": false,
    "pycharm": {
     "name": "#%%\n"
    }
   }
  },
  {
   "cell_type": "code",
   "execution_count": 150,
   "outputs": [],
   "source": [
    "predicts = predicts.join(predicts_separated)\n",
    "predicts[\"separated_predicts\"] = predicts[\"separated_predicts\"].fillna(predicts[\"regressor_predicts\"])"
   ],
   "metadata": {
    "collapsed": false,
    "pycharm": {
     "name": "#%%\n"
    }
   }
  },
  {
   "cell_type": "code",
   "execution_count": 151,
   "outputs": [
    {
     "data": {
      "text/plain": "        regressor_predicts  classifier_predicts  combined  separated_predicts\nrow_id                                                                       \n14785             6.925193                 10.0  8.462596            7.326513\n15125             5.151694                  3.0  4.075847            5.151694\n13095             5.969641                  5.0  5.484821            5.969641\n6079              6.002569                  5.0  5.501285            5.841775\n16584             6.387818                  6.5  6.443909            6.115334\n18508             5.700755                  6.0  5.850377            5.700755\n18731             5.867504                  6.0  5.933752            6.605344\n13610             7.398130                  7.5  7.449065            8.067277\n21768             4.029116                  6.5  5.264558            4.029116\n14463             5.866818                  6.5  6.183409            5.866818\n4031              7.375101                  8.0  7.687551            7.375101\n22418             6.525290                  7.5  7.012645            6.525290\n5288              6.648199                  7.5  7.074099            6.648199\n11744             5.909730                  6.5  6.204865            5.909730\n4123              6.176965                  6.5  6.338483            6.452689\n25449             7.037658                  6.0  6.518829            7.037658\n19207             7.468773                  8.0  7.734387            7.468773\n4488              6.345266                  6.0  6.172633            6.345266\n19810             5.642504                  6.0  5.821252            5.904842\n21238             7.148111                  6.5  6.824056            7.148111",
      "text/html": "<div>\n<style scoped>\n    .dataframe tbody tr th:only-of-type {\n        vertical-align: middle;\n    }\n\n    .dataframe tbody tr th {\n        vertical-align: top;\n    }\n\n    .dataframe thead th {\n        text-align: right;\n    }\n</style>\n<table border=\"1\" class=\"dataframe\">\n  <thead>\n    <tr style=\"text-align: right;\">\n      <th></th>\n      <th>regressor_predicts</th>\n      <th>classifier_predicts</th>\n      <th>combined</th>\n      <th>separated_predicts</th>\n    </tr>\n    <tr>\n      <th>row_id</th>\n      <th></th>\n      <th></th>\n      <th></th>\n      <th></th>\n    </tr>\n  </thead>\n  <tbody>\n    <tr>\n      <th>14785</th>\n      <td>6.925193</td>\n      <td>10.0</td>\n      <td>8.462596</td>\n      <td>7.326513</td>\n    </tr>\n    <tr>\n      <th>15125</th>\n      <td>5.151694</td>\n      <td>3.0</td>\n      <td>4.075847</td>\n      <td>5.151694</td>\n    </tr>\n    <tr>\n      <th>13095</th>\n      <td>5.969641</td>\n      <td>5.0</td>\n      <td>5.484821</td>\n      <td>5.969641</td>\n    </tr>\n    <tr>\n      <th>6079</th>\n      <td>6.002569</td>\n      <td>5.0</td>\n      <td>5.501285</td>\n      <td>5.841775</td>\n    </tr>\n    <tr>\n      <th>16584</th>\n      <td>6.387818</td>\n      <td>6.5</td>\n      <td>6.443909</td>\n      <td>6.115334</td>\n    </tr>\n    <tr>\n      <th>18508</th>\n      <td>5.700755</td>\n      <td>6.0</td>\n      <td>5.850377</td>\n      <td>5.700755</td>\n    </tr>\n    <tr>\n      <th>18731</th>\n      <td>5.867504</td>\n      <td>6.0</td>\n      <td>5.933752</td>\n      <td>6.605344</td>\n    </tr>\n    <tr>\n      <th>13610</th>\n      <td>7.398130</td>\n      <td>7.5</td>\n      <td>7.449065</td>\n      <td>8.067277</td>\n    </tr>\n    <tr>\n      <th>21768</th>\n      <td>4.029116</td>\n      <td>6.5</td>\n      <td>5.264558</td>\n      <td>4.029116</td>\n    </tr>\n    <tr>\n      <th>14463</th>\n      <td>5.866818</td>\n      <td>6.5</td>\n      <td>6.183409</td>\n      <td>5.866818</td>\n    </tr>\n    <tr>\n      <th>4031</th>\n      <td>7.375101</td>\n      <td>8.0</td>\n      <td>7.687551</td>\n      <td>7.375101</td>\n    </tr>\n    <tr>\n      <th>22418</th>\n      <td>6.525290</td>\n      <td>7.5</td>\n      <td>7.012645</td>\n      <td>6.525290</td>\n    </tr>\n    <tr>\n      <th>5288</th>\n      <td>6.648199</td>\n      <td>7.5</td>\n      <td>7.074099</td>\n      <td>6.648199</td>\n    </tr>\n    <tr>\n      <th>11744</th>\n      <td>5.909730</td>\n      <td>6.5</td>\n      <td>6.204865</td>\n      <td>5.909730</td>\n    </tr>\n    <tr>\n      <th>4123</th>\n      <td>6.176965</td>\n      <td>6.5</td>\n      <td>6.338483</td>\n      <td>6.452689</td>\n    </tr>\n    <tr>\n      <th>25449</th>\n      <td>7.037658</td>\n      <td>6.0</td>\n      <td>6.518829</td>\n      <td>7.037658</td>\n    </tr>\n    <tr>\n      <th>19207</th>\n      <td>7.468773</td>\n      <td>8.0</td>\n      <td>7.734387</td>\n      <td>7.468773</td>\n    </tr>\n    <tr>\n      <th>4488</th>\n      <td>6.345266</td>\n      <td>6.0</td>\n      <td>6.172633</td>\n      <td>6.345266</td>\n    </tr>\n    <tr>\n      <th>19810</th>\n      <td>5.642504</td>\n      <td>6.0</td>\n      <td>5.821252</td>\n      <td>5.904842</td>\n    </tr>\n    <tr>\n      <th>21238</th>\n      <td>7.148111</td>\n      <td>6.5</td>\n      <td>6.824056</td>\n      <td>7.148111</td>\n    </tr>\n  </tbody>\n</table>\n</div>"
     },
     "execution_count": 151,
     "metadata": {},
     "output_type": "execute_result"
    }
   ],
   "source": [
    "predicts.head(20)"
   ],
   "metadata": {
    "collapsed": false,
    "pycharm": {
     "name": "#%%\n"
    }
   }
  },
  {
   "cell_type": "code",
   "execution_count": 152,
   "outputs": [],
   "source": [
    "pd.DataFrame(predicts[\"separated_predicts\"].values, row_id_test, columns=[\"rating_num\"]).to_csv(\"../submissions/catboost_separated.csv\")"
   ],
   "metadata": {
    "collapsed": false,
    "pycharm": {
     "name": "#%%\n"
    }
   }
  },
  {
   "cell_type": "code",
   "execution_count": null,
   "outputs": [],
   "source": [],
   "metadata": {
    "collapsed": false,
    "pycharm": {
     "name": "#%%\n"
    }
   }
  },
  {
   "cell_type": "code",
   "execution_count": 154,
   "outputs": [],
   "source": [
    "filtered_categorical_features = list(filter(lambda x: x not in [\"scout_id\"], categorical_features))\n",
    "\n",
    "separate_categorical_feature_indices = []\n",
    "for i, col in enumerate(X.drop([\"scout_id\"], axis=1).columns):\n",
    "    if col in filtered_categorical_features:\n",
    "        separate_categorical_feature_indices.append(i)"
   ],
   "metadata": {
    "collapsed": false,
    "pycharm": {
     "name": "#%%\n"
    }
   }
  },
  {
   "cell_type": "code",
   "execution_count": 155,
   "outputs": [],
   "source": [
    "scout_id_groups = pd.read_csv(\"../data/helpers/scout_id_grouped.csv\")"
   ],
   "metadata": {
    "collapsed": false,
    "pycharm": {
     "name": "#%%\n"
    }
   }
  },
  {
   "cell_type": "code",
   "execution_count": 157,
   "outputs": [
    {
     "data": {
      "text/plain": "   scout_id  row_id\n0        16    3765\n1        13    2790\n2         3    2740\n3        11    2302\n4        15    2026\n5         1    1973\n6         4    1023\n7        12     982\n8         2     926\n9        10     553",
      "text/html": "<div>\n<style scoped>\n    .dataframe tbody tr th:only-of-type {\n        vertical-align: middle;\n    }\n\n    .dataframe tbody tr th {\n        vertical-align: top;\n    }\n\n    .dataframe thead th {\n        text-align: right;\n    }\n</style>\n<table border=\"1\" class=\"dataframe\">\n  <thead>\n    <tr style=\"text-align: right;\">\n      <th></th>\n      <th>scout_id</th>\n      <th>row_id</th>\n    </tr>\n  </thead>\n  <tbody>\n    <tr>\n      <th>0</th>\n      <td>16</td>\n      <td>3765</td>\n    </tr>\n    <tr>\n      <th>1</th>\n      <td>13</td>\n      <td>2790</td>\n    </tr>\n    <tr>\n      <th>2</th>\n      <td>3</td>\n      <td>2740</td>\n    </tr>\n    <tr>\n      <th>3</th>\n      <td>11</td>\n      <td>2302</td>\n    </tr>\n    <tr>\n      <th>4</th>\n      <td>15</td>\n      <td>2026</td>\n    </tr>\n    <tr>\n      <th>5</th>\n      <td>1</td>\n      <td>1973</td>\n    </tr>\n    <tr>\n      <th>6</th>\n      <td>4</td>\n      <td>1023</td>\n    </tr>\n    <tr>\n      <th>7</th>\n      <td>12</td>\n      <td>982</td>\n    </tr>\n    <tr>\n      <th>8</th>\n      <td>2</td>\n      <td>926</td>\n    </tr>\n    <tr>\n      <th>9</th>\n      <td>10</td>\n      <td>553</td>\n    </tr>\n  </tbody>\n</table>\n</div>"
     },
     "execution_count": 157,
     "metadata": {},
     "output_type": "execute_result"
    }
   ],
   "source": [
    "scout_id_groups.head(10)"
   ],
   "metadata": {
    "collapsed": false,
    "pycharm": {
     "name": "#%%\n"
    }
   }
  },
  {
   "cell_type": "code",
   "execution_count": 158,
   "outputs": [
    {
     "name": "stdout",
     "output_type": "stream",
     "text": [
      "Learning rate set to 0.050484\n",
      "0:\tlearn: 1.8544222\ttotal: 31.5ms\tremaining: 31.5s\n",
      "500:\tlearn: 0.9655595\ttotal: 15.1s\tremaining: 15s\n",
      "999:\tlearn: 0.6109411\ttotal: 29.2s\tremaining: 0us\n",
      "Learning rate set to 0.048149\n",
      "0:\tlearn: 1.5286631\ttotal: 31.8ms\tremaining: 31.8s\n",
      "500:\tlearn: 0.6955817\ttotal: 14.8s\tremaining: 14.7s\n",
      "999:\tlearn: 0.3785931\ttotal: 29.6s\tremaining: 0us\n",
      "Learning rate set to 0.048011\n",
      "0:\tlearn: 1.7725561\ttotal: 31.7ms\tremaining: 31.7s\n",
      "500:\tlearn: 0.8084058\ttotal: 15.1s\tremaining: 15s\n",
      "999:\tlearn: 0.4384899\ttotal: 29.8s\tremaining: 0us\n",
      "Learning rate set to 0.046708\n",
      "0:\tlearn: 1.7169492\ttotal: 33.5ms\tremaining: 33.5s\n",
      "500:\tlearn: 0.6585590\ttotal: 14.3s\tremaining: 14.2s\n",
      "999:\tlearn: 0.3489788\ttotal: 28.4s\tremaining: 0us\n",
      "Learning rate set to 0.045775\n",
      "0:\tlearn: 1.2785372\ttotal: 33.9ms\tremaining: 33.9s\n",
      "500:\tlearn: 0.5632894\ttotal: 14.2s\tremaining: 14.1s\n",
      "999:\tlearn: 0.2796331\ttotal: 28.3s\tremaining: 0us\n",
      "Learning rate set to 0.045584\n",
      "0:\tlearn: 2.7135205\ttotal: 30.5ms\tremaining: 30.4s\n",
      "500:\tlearn: 0.9735802\ttotal: 14.4s\tremaining: 14.4s\n",
      "999:\tlearn: 0.4687511\ttotal: 28.4s\tremaining: 0us\n",
      "Learning rate set to 0.04109\n",
      "0:\tlearn: 1.8954159\ttotal: 24.3ms\tremaining: 24.3s\n",
      "500:\tlearn: 0.6399425\ttotal: 12.2s\tremaining: 12.1s\n",
      "999:\tlearn: 0.2380420\ttotal: 24.3s\tremaining: 0us\n",
      "Learning rate set to 0.040826\n",
      "0:\tlearn: 1.6263360\ttotal: 25.3ms\tremaining: 25.3s\n",
      "500:\tlearn: 0.5233802\ttotal: 13s\tremaining: 12.9s\n",
      "999:\tlearn: 0.1819049\ttotal: 25.8s\tremaining: 0us\n",
      "Learning rate set to 0.040449\n",
      "0:\tlearn: 2.0014803\ttotal: 26.9ms\tremaining: 26.9s\n",
      "500:\tlearn: 0.5687870\ttotal: 12.8s\tremaining: 12.8s\n",
      "999:\tlearn: 0.2180453\ttotal: 25.5s\tremaining: 0us\n",
      "Learning rate set to 0.037285\n",
      "0:\tlearn: 1.2916178\ttotal: 24.2ms\tremaining: 24.2s\n",
      "500:\tlearn: 0.2287498\ttotal: 12.1s\tremaining: 12s\n",
      "999:\tlearn: 0.0495436\ttotal: 23.9s\tremaining: 0us\n"
     ]
    }
   ],
   "source": [
    "prepared_indices = []\n",
    "predicts_separated = []\n",
    "for scout_id in scout_id_groups.head(10)[\"scout_id\"].values:\n",
    "    regressor_inner = CatBoostRegressor()\n",
    "    X_inner = X[(X[\"scout_id\"] == scout_id)]\n",
    "    X_inner = X_inner.drop([\"scout_id\"], axis=1)\n",
    "    y_inner = y[X_inner.index]\n",
    "    regressor_inner.fit(X_inner, y_inner, separate_categorical_feature_indices, verbose=500)\n",
    "\n",
    "    test_data_inner = test_data[(test_data[\"scout_id\"] == scout_id)]\n",
    "    test_data_inner = test_data_inner.drop([\"scout_id\"], axis=1)\n",
    "    row_id_test_inner = test_data_inner[\"row_id\"]\n",
    "    test_data_inner = test_data_inner.drop(\"row_id\", axis=1)\n",
    "    predicts_inner = regressor_inner.predict(test_data_inner)\n",
    "    predicts_separated += list(predicts_inner)\n",
    "    prepared_indices += list(row_id_test_inner.values)"
   ],
   "metadata": {
    "collapsed": false,
    "pycharm": {
     "name": "#%%\n"
    }
   }
  },
  {
   "cell_type": "code",
   "execution_count": 159,
   "outputs": [],
   "source": [
    "scout_id_predicts = pd.DataFrame(predicts_separated, prepared_indices, columns=[\"scout_id_predicts\"])"
   ],
   "metadata": {
    "collapsed": false,
    "pycharm": {
     "name": "#%%\n"
    }
   }
  },
  {
   "cell_type": "code",
   "execution_count": 162,
   "outputs": [],
   "source": [
    "predicts = predicts.join(scout_id_predicts)\n",
    "predicts[\"scout_id_predicts\"] = predicts[\"scout_id_predicts\"].fillna(predicts[\"regressor_predicts\"])"
   ],
   "metadata": {
    "collapsed": false,
    "pycharm": {
     "name": "#%%\n"
    }
   }
  },
  {
   "cell_type": "code",
   "execution_count": 163,
   "outputs": [],
   "source": [
    "pd.DataFrame(predicts[\"scout_id_predicts\"].values, row_id_test, columns=[\"rating_num\"]).to_csv(\"../submissions/catboost_scout_id_grouped.csv\")"
   ],
   "metadata": {
    "collapsed": false,
    "pycharm": {
     "name": "#%%\n"
    }
   }
  },
  {
   "cell_type": "code",
   "execution_count": null,
   "outputs": [],
   "source": [],
   "metadata": {
    "collapsed": false,
    "pycharm": {
     "name": "#%%\n"
    }
   }
  },
  {
   "cell_type": "code",
   "execution_count": null,
   "metadata": {
    "collapsed": true
   },
   "outputs": [],
   "source": []
  }
 ],
 "metadata": {
  "kernelspec": {
   "display_name": "Python 3",
   "language": "python",
   "name": "python3"
  },
  "language_info": {
   "codemirror_mode": {
    "name": "ipython",
    "version": 2
   },
   "file_extension": ".py",
   "mimetype": "text/x-python",
   "name": "python",
   "nbconvert_exporter": "python",
   "pygments_lexer": "ipython2",
   "version": "2.7.6"
  }
 },
 "nbformat": 4,
 "nbformat_minor": 0
}